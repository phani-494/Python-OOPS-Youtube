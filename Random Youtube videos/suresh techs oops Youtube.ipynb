{
 "cells": [
  {
   "cell_type": "markdown",
   "id": "559fd272",
   "metadata": {},
   "source": [
    "# OOPS"
   ]
  },
  {
   "cell_type": "raw",
   "id": "065f7cfc",
   "metadata": {},
   "source": [
    "Object:\n",
    "    Anything that has state and behavior is called an OBJECT.\n",
    "   State is about properties and behavior is about the actions performed by the object.\n",
    "  ex- Bottle\n",
    "  Attributes/Properties/State:\n",
    "   color, capacity,height\n",
    "   \n",
    "   Functions/Behavior:\n",
    "     Wash/set cap/ Fill water "
   ]
  },
  {
   "cell_type": "raw",
   "id": "bb4edb0a",
   "metadata": {},
   "source": [
    "OOPS mainly used for the Reusability of the code,also known as DRY (Don't repeat yourself).\n",
    "  Suppose you have seen a house separately constructed which is a reference for constructing many other houses.\n",
    "   It is just like a blueprint of the house.\n",
    "   One house plan(blueprint) is used to construct all the homes.\n",
    "   \n",
    "   \n",
    "Class:\n",
    " One Blueprint/class is enough to create n number of the objects.\n",
    "   \n",
    "   \n",
    "   Syntax-\n",
    "   \n",
    "   class class_name:\n",
    "      # attributes\n",
    "      # Functions"
   ]
  },
  {
   "cell_type": "raw",
   "id": "72f01946",
   "metadata": {},
   "source": [
    " We can create 10 bottles using a single class Bottle.\n",
    " \n",
    "# When you create an object, then it will return an address in which memory loction it is created.\n"
   ]
  },
  {
   "cell_type": "raw",
   "id": "f89bc89f",
   "metadata": {},
   "source": [
    "when a funtion returns something,we store it in a variable and use.\n",
    "Similarly an object creation also returns and we store it in a variable here.\n",
    "see line 2 created an object and returned the address to us.\n",
    "0x0000023BECA1BCD0  at this location the object was created.all object details(attributes and functions) are stored at a particular memory location. \n",
    "so here bottle will have this address.\n",
    "so in future when u want this object details, we can use this bottle variable which have that address and get all the details of the object.\n"
   ]
  },
  {
   "cell_type": "code",
   "execution_count": 8,
   "id": "04776f8c",
   "metadata": {},
   "outputs": [
    {
     "name": "stdout",
     "output_type": "stream",
     "text": [
      "<__main__.Bottle object at 0x0000023BECA1BF10>\n"
     ]
    }
   ],
   "source": [
    "class Bottle:\n",
    "    color=\"green\"\n",
    "    def wash(self):\n",
    "        print(self)\n",
    "        print(\"Pls wash the bottle\")\n",
    "bottle=Bottle()\n",
    "print(bottle)"
   ]
  },
  {
   "cell_type": "code",
   "execution_count": 9,
   "id": "01be5433",
   "metadata": {},
   "outputs": [
    {
     "data": {
      "text/plain": [
       "'green'"
      ]
     },
     "execution_count": 9,
     "metadata": {},
     "output_type": "execute_result"
    }
   ],
   "source": [
    "bottle.color # go to this address which have the color value and return it. "
   ]
  },
  {
   "cell_type": "code",
   "execution_count": 10,
   "id": "ed37b73e",
   "metadata": {},
   "outputs": [
    {
     "name": "stdout",
     "output_type": "stream",
     "text": [
      "<__main__.Bottle object at 0x0000023BECA1BF10>\n",
      "Pls wash the bottle\n"
     ]
    }
   ],
   "source": [
    "bottle.wash() # when you call this function ,automatically python will send a parameter which is the reference simply bottle variable (address)."
   ]
  },
  {
   "cell_type": "code",
   "execution_count": null,
   "id": "8fb41545",
   "metadata": {},
   "outputs": [],
   "source": [
    "# self.name=\"Indra\" means in that address which is nothing but the self, create a variable named name and store the name \"Indra\"\n",
    "# when u want to acccess the Indra,we need to have this address and the varible name used to store it.\n",
    "# so simply we use object_name.name means name at that particular address."
   ]
  },
  {
   "cell_type": "code",
   "execution_count": null,
   "id": "dc72df44",
   "metadata": {},
   "outputs": [],
   "source": [
    "what happens when you create an object?\n",
    "\n",
    "bottle1=Bottle()\n",
    "print(bottle1)\n",
    "\n",
    "\n",
    "Just assume in a memory at one location this thing takes place.\n",
    "\n",
    "  Memory\n",
    " ----------------------------------------\n",
    "|   color=\"red\"                          |\n",
    "|   capacity=1                           |\n",
    "|   height=30                            |\n",
    "|                                        |\n",
    "|     wash()                             |                                                                            \n",
    "|     fillwater()                        |\n",
    "|     wash()                             |\n",
    "|                                        |\n",
    "|                                        |\n",
    "|                                        |  \n",
    "------------------------------------------\n",
    "    0x0000023BECA1BF10\n",
    "    \n",
    "  when you create an object,then at this location all these object details(provided in class) will be stored.\n",
    "  This memory location 0x0000023BECA1BF10 will be stored in bottle1.\n",
    "  By using this address only we can call those functions or the attributes.\n",
    "      "
   ]
  },
  {
   "cell_type": "code",
   "execution_count": null,
   "id": "7bcc7b8d",
   "metadata": {},
   "outputs": [],
   "source": [
    "### Constructor \n",
    "1. Constructor gets called and initializes all the attributes/properties with default values.\n",
    "2. All the properties/Functions will be placed in a memory location.\n",
    "3. Returns that memory location  (ex-   bottle=0x0000023BECA1BF10)\n",
    "\n",
    "Constructor will automatically be placed when you create a class but it is not visible to you.\n",
    "# we can also write a constructor which can be visible to us.\n",
    "\n",
    "Types of Constructors:\n",
    "    1. Default constructor:\n",
    "        def __init__(self):\n",
    "            color=\"red\"\n",
    "            capacity=3\n",
    "            print(self)\n",
    "     2. Parametrized constructor: constructor with parameter values:\n",
    "            def __init__(self,name,color,age):\n",
    "                self.name=name\n",
    "                self.color=color\n",
    "                self.age=age"
   ]
  },
  {
   "cell_type": "raw",
   "id": "6cce4f8a",
   "metadata": {},
   "source": [
    "Class variables:\n",
    "    Also called as Static variables\n",
    "    Shared by all the instances of the class.\n",
    "    class variable values are assigned in the class.\n",
    "    ex-colg names, company names\n",
    "\n",
    "Instance variables:\n",
    "    Can change in each instance of the class.\n",
    "    Instance variable values are assigned either in the constructor or a method with self.\n",
    "    \n",
    "   * we can also access a class variables using the objects we created."
   ]
  },
  {
   "cell_type": "raw",
   "id": "4b52db80",
   "metadata": {},
   "source": [
    "In Programming, just like how we have constructors,there are also destructors.\n",
    "These are used to manage memory.\n",
    "If you are from java/c++, it is called garbage collection.\n",
    "__del__() is the method responsible for garbage colection in python.\n",
    "\n",
    "\n",
    "Destructors are called when object gets destroyed.\n",
    "\n",
    "The object will be destroyed when all the references to the object have been deleted.\n",
    "Reference to the object is deleted at the End of the progam or by using  del keyword.\n",
    "\n"
   ]
  },
  {
   "cell_type": "code",
   "execution_count": null,
   "id": "9616582d",
   "metadata": {},
   "outputs": [],
   "source": [
    "class Bottle:\n",
    "    color=\"green\"\n",
    "    def __init__(self):\n",
    "        print(\"Constructor\")\n",
    "    def __del__(self):\n",
    "        print(\"Destructor\")\n",
    "    def wash(self):\n",
    "        print(self)\n",
    "        print(\"Pls wash the bottle\")\n",
    "bottle=Bottle()\n",
    "print(bottle)\n",
    "\n",
    "# Run this in python pycharm because it will works for files only.\n",
    "#at the end of the program in file, the destructor will be called.\n",
    "\n",
    "Constructor\n",
    "<__main__.Bottle object at 0x000001BC8983EFD0>\n",
    "Destructor"
   ]
  },
  {
   "cell_type": "code",
   "execution_count": null,
   "id": "217fd9b4",
   "metadata": {},
   "outputs": [],
   "source": [
    "class Bottle:\n",
    "    color=\"green\"\n",
    "    def __init__(self):\n",
    "        print(\"Constructor\")\n",
    "    def __del__(self):\n",
    "        print(\"Destructor\")\n",
    "    def wash(self):\n",
    "        print(self)\n",
    "        print(\"Pls wash the bottle\")\n",
    "bottle1=Bottle()\n",
    "bottle2=Bottle()\n",
    "\n",
    "\n",
    "Pycharm Output:\n",
    "    \n",
    "\"C:\\Users\\Phanindra Reddy\\PycharmProjects\\pythonProject8\\venv\\Scripts\\python.exe\" \"C:/Users/Phanindra Reddy/PycharmProjects/pythonProject8/main.py\"\n",
    "Constructor\n",
    "Constructor\n",
    "Destructor\n",
    "Destructor\n",
    "\n",
    "\n",
    "\n",
    "# at the end of the program the two references will be destroyed. so 2 times __del__ will be called."
   ]
  },
  {
   "cell_type": "markdown",
   "id": "fc4e10b3",
   "metadata": {},
   "source": [
    "## Inheritance"
   ]
  },
  {
   "cell_type": "raw",
   "id": "dfffb445",
   "metadata": {},
   "source": [
    "In programming,we can create child classes from parent classes.\n",
    "Child classes will inherit all the properties and functions from the parent class.\n",
    "Provides the re-usability of the code.\n"
   ]
  },
  {
   "cell_type": "raw",
   "id": "1a3f1bec",
   "metadata": {},
   "source": [
    "Creating child class:\n",
    "    \n",
    "    class className(Parentclass):\n",
    "        # statements"
   ]
  },
  {
   "cell_type": "code",
   "execution_count": null,
   "id": "f377e4f6",
   "metadata": {},
   "outputs": [],
   "source": [
    "Who is the parent of all the classes?\n",
    "\n",
    "In programming, it is called Object class.\n",
    "Every class that we create is derived from Object class by default.\n",
    " "
   ]
  },
  {
   "cell_type": "code",
   "execution_count": null,
   "id": "3051005f",
   "metadata": {},
   "outputs": [],
   "source": [
    "How to know the parent of any class?\n",
    "\n",
    "class.__bases__   # class means class_name\n",
    "\n",
    "How to know the parent of the class from an object?\n",
    "\n",
    "object.__class__.__bases__  # object means name of the object.\n"
   ]
  },
  {
   "cell_type": "code",
   "execution_count": 4,
   "id": "975340b3",
   "metadata": {},
   "outputs": [
    {
     "name": "stdout",
     "output_type": "stream",
     "text": [
      "Constructor\n",
      "Constructor\n",
      "Constructor\n"
     ]
    }
   ],
   "source": [
    "class Bottle:\n",
    "    color=\"green\"\n",
    "    def __init__(self):\n",
    "        print(\"Constructor\")\n",
    "    def wash(self):\n",
    "        print(self)\n",
    "        print(\"Pls wash the bottle\")\n",
    "        \n",
    "class CopperBottle(Bottle):\n",
    "    material=\"Copper\"\n",
    "bottle1=Bottle()\n",
    "bottle2=Bottle()\n",
    "Cb1=CopperBottle()"
   ]
  },
  {
   "cell_type": "code",
   "execution_count": 5,
   "id": "8db57f8a",
   "metadata": {},
   "outputs": [
    {
     "data": {
      "text/plain": [
       "(__main__.Bottle,)"
      ]
     },
     "execution_count": 5,
     "metadata": {},
     "output_type": "execute_result"
    }
   ],
   "source": [
    "CopperBottle.__bases__"
   ]
  },
  {
   "cell_type": "code",
   "execution_count": 7,
   "id": "5c0c9fd7",
   "metadata": {},
   "outputs": [
    {
     "data": {
      "text/plain": [
       "(__main__.Bottle,)"
      ]
     },
     "execution_count": 7,
     "metadata": {},
     "output_type": "execute_result"
    }
   ],
   "source": [
    "Cb1.__class__.__bases__"
   ]
  },
  {
   "cell_type": "code",
   "execution_count": null,
   "id": "ff95ca1d",
   "metadata": {},
   "outputs": [],
   "source": [
    " "
   ]
  },
  {
   "cell_type": "code",
   "execution_count": null,
   "id": "54539ede",
   "metadata": {},
   "outputs": [],
   "source": []
  },
  {
   "cell_type": "code",
   "execution_count": 1,
   "id": "45735746",
   "metadata": {},
   "outputs": [],
   "source": [
    "class add:\n",
    "    x=10\n",
    "    y=100\n",
    "    def sum(self):\n",
    "        return self.x+self.y #  to access the instance  variables declared in the class we must use the self else error will occur"
   ]
  },
  {
   "cell_type": "code",
   "execution_count": 2,
   "id": "1ae93c89",
   "metadata": {},
   "outputs": [],
   "source": [
    "add1=add()"
   ]
  },
  {
   "cell_type": "code",
   "execution_count": 3,
   "id": "15d20292",
   "metadata": {},
   "outputs": [
    {
     "data": {
      "text/plain": [
       "110"
      ]
     },
     "execution_count": 3,
     "metadata": {},
     "output_type": "execute_result"
    }
   ],
   "source": [
    "add1.sum()"
   ]
  },
  {
   "cell_type": "code",
   "execution_count": 8,
   "id": "687d107a",
   "metadata": {},
   "outputs": [
    {
     "data": {
      "text/plain": [
       "10"
      ]
     },
     "execution_count": 8,
     "metadata": {},
     "output_type": "execute_result"
    }
   ],
   "source": [
    "add1.x # to print the instance variable use as obj_name.variable_name"
   ]
  },
  {
   "cell_type": "code",
   "execution_count": 9,
   "id": "e04e186f",
   "metadata": {},
   "outputs": [],
   "source": [
    "class add:\n",
    "    x=10 # x and y are called as the static variables or instance variables\n",
    "    y=100\n",
    "    def sum(self):\n",
    "        return x+y"
   ]
  },
  {
   "cell_type": "code",
   "execution_count": 10,
   "id": "9dd02a4b",
   "metadata": {},
   "outputs": [],
   "source": [
    "add2=add()"
   ]
  },
  {
   "cell_type": "code",
   "execution_count": 11,
   "id": "f05a3f91",
   "metadata": {},
   "outputs": [
    {
     "ename": "NameError",
     "evalue": "name 'x' is not defined",
     "output_type": "error",
     "traceback": [
      "\u001b[1;31m---------------------------------------------------------------------------\u001b[0m",
      "\u001b[1;31mNameError\u001b[0m                                 Traceback (most recent call last)",
      "\u001b[1;32m~\\AppData\\Local\\Temp\\ipykernel_37032\\2814758379.py\u001b[0m in \u001b[0;36m<module>\u001b[1;34m\u001b[0m\n\u001b[1;32m----> 1\u001b[1;33m \u001b[0madd2\u001b[0m\u001b[1;33m.\u001b[0m\u001b[0msum\u001b[0m\u001b[1;33m(\u001b[0m\u001b[1;33m)\u001b[0m\u001b[1;33m\u001b[0m\u001b[1;33m\u001b[0m\u001b[0m\n\u001b[0m",
      "\u001b[1;32m~\\AppData\\Local\\Temp\\ipykernel_37032\\1282638447.py\u001b[0m in \u001b[0;36msum\u001b[1;34m(self)\u001b[0m\n\u001b[0;32m      3\u001b[0m     \u001b[0my\u001b[0m\u001b[1;33m=\u001b[0m\u001b[1;36m100\u001b[0m\u001b[1;33m\u001b[0m\u001b[1;33m\u001b[0m\u001b[0m\n\u001b[0;32m      4\u001b[0m     \u001b[1;32mdef\u001b[0m \u001b[0msum\u001b[0m\u001b[1;33m(\u001b[0m\u001b[0mself\u001b[0m\u001b[1;33m)\u001b[0m\u001b[1;33m:\u001b[0m\u001b[1;33m\u001b[0m\u001b[1;33m\u001b[0m\u001b[0m\n\u001b[1;32m----> 5\u001b[1;33m         \u001b[1;32mreturn\u001b[0m \u001b[0mx\u001b[0m\u001b[1;33m+\u001b[0m\u001b[0my\u001b[0m\u001b[1;33m\u001b[0m\u001b[1;33m\u001b[0m\u001b[0m\n\u001b[0m",
      "\u001b[1;31mNameError\u001b[0m: name 'x' is not defined"
     ]
    }
   ],
   "source": [
    "add2.sum()"
   ]
  },
  {
   "cell_type": "code",
   "execution_count": 23,
   "id": "7da7e8c0",
   "metadata": {},
   "outputs": [],
   "source": [
    "class add:\n",
    "    __x=10\n",
    "    y=100\n",
    "    def sum(self):\n",
    "        print(self.__x)\n",
    "        return self.__x+self.y"
   ]
  },
  {
   "cell_type": "code",
   "execution_count": 26,
   "id": "d03c8459",
   "metadata": {},
   "outputs": [
    {
     "ename": "AttributeError",
     "evalue": "'add' object has no attribute '__x'",
     "output_type": "error",
     "traceback": [
      "\u001b[1;31m---------------------------------------------------------------------------\u001b[0m",
      "\u001b[1;31mAttributeError\u001b[0m                            Traceback (most recent call last)",
      "\u001b[1;32m~\\AppData\\Local\\Temp\\ipykernel_37032\\2487781978.py\u001b[0m in \u001b[0;36m<module>\u001b[1;34m\u001b[0m\n\u001b[0;32m      1\u001b[0m \u001b[0mobj3\u001b[0m\u001b[1;33m=\u001b[0m\u001b[0madd\u001b[0m\u001b[1;33m(\u001b[0m\u001b[1;33m)\u001b[0m\u001b[1;33m\u001b[0m\u001b[1;33m\u001b[0m\u001b[0m\n\u001b[1;32m----> 2\u001b[1;33m \u001b[0mprint\u001b[0m\u001b[1;33m(\u001b[0m\u001b[0mobj3\u001b[0m\u001b[1;33m.\u001b[0m\u001b[0m__x\u001b[0m\u001b[1;33m)\u001b[0m\u001b[1;33m\u001b[0m\u001b[1;33m\u001b[0m\u001b[0m\n\u001b[0m",
      "\u001b[1;31mAttributeError\u001b[0m: 'add' object has no attribute '__x'"
     ]
    }
   ],
   "source": [
    "obj3=add()\n",
    "print(obj3.__x) # the private variable x cannot be accessed out of the class .only public variables are accessible \n"
   ]
  },
  {
   "cell_type": "code",
   "execution_count": 27,
   "id": "a9f801a1",
   "metadata": {},
   "outputs": [
    {
     "name": "stdout",
     "output_type": "stream",
     "text": [
      "10\n"
     ]
    },
    {
     "data": {
      "text/plain": [
       "110"
      ]
     },
     "execution_count": 27,
     "metadata": {},
     "output_type": "execute_result"
    }
   ],
   "source": [
    "obj3.sum() # here no error since the private variable x works within only the class.out of the class we cannot access it"
   ]
  },
  {
   "cell_type": "code",
   "execution_count": 28,
   "id": "8248546d",
   "metadata": {},
   "outputs": [],
   "source": [
    "# we can also put the __ for methods also to make them as private methods"
   ]
  },
  {
   "cell_type": "markdown",
   "id": "b10cdeb6",
   "metadata": {},
   "source": [
    "1. Class has no any existence because it never consumes any space\n",
    "2. An object consumes memory so it has an existence."
   ]
  },
  {
   "cell_type": "markdown",
   "id": "26fd6157",
   "metadata": {},
   "source": [
    "## Encapsulation"
   ]
  },
  {
   "cell_type": "code",
   "execution_count": null,
   "id": "727eb749",
   "metadata": {},
   "outputs": [],
   "source": [
    "Process of wrapping code and data together into a single unit.\n",
    "This helps to prevent the accidental modification of the data.\n",
    "Access Modifiers:\n",
    "    \n",
    "1. Public:\n",
    "     Public members can be accesible from any part of the program.\n",
    "2. Private:\n",
    "    Private members are accessible only within the class.\n",
    "3. Protected:\n",
    "    Cannot be accessed outside the class but can be accessed from within the class and it's subclasses.\n",
    "    "
   ]
  },
  {
   "cell_type": "code",
   "execution_count": 12,
   "id": "c709cb8e",
   "metadata": {},
   "outputs": [
    {
     "name": "stdout",
     "output_type": "stream",
     "text": [
      "5\n",
      "Pls wash the bottle\n"
     ]
    }
   ],
   "source": [
    "class Bottle:\n",
    "    color=\"green\"\n",
    "    def __init__(self,color,capacity):\n",
    "        self.color=color\n",
    "        self._capacity=capacity\n",
    "    def wash(self):\n",
    "        print(self._capacity)\n",
    "        print(\"Pls wash the bottle\")\n",
    "        \n",
    "class CopperBottle(Bottle):\n",
    "    material=\"Copper\"\n",
    "bottle1=Bottle(\"yellow\",5)\n",
    "bottle2=Bottle(\"yellow\",5)\n",
    "Cb1=CopperBottle(\"yellow\",5)\n",
    "bottle2.wash()\n"
   ]
  },
  {
   "cell_type": "code",
   "execution_count": null,
   "id": "d7dcc662",
   "metadata": {},
   "outputs": [],
   "source": [
    "# if we want to create the protected variable ,then use _ infront of the variable.\n",
    "# if we want to create the private variable ,then use __ infront of the variable.\n",
    "# we can use them only within the class."
   ]
  },
  {
   "cell_type": "code",
   "execution_count": 17,
   "id": "8624fed3",
   "metadata": {},
   "outputs": [
    {
     "name": "stdout",
     "output_type": "stream",
     "text": [
      "5\n",
      "Pls wash the bottle\n"
     ]
    },
    {
     "ename": "AttributeError",
     "evalue": "'Bottle' object has no attribute 'capacity'",
     "output_type": "error",
     "traceback": [
      "\u001b[1;31m---------------------------------------------------------------------------\u001b[0m",
      "\u001b[1;31mAttributeError\u001b[0m                            Traceback (most recent call last)",
      "\u001b[1;32m~\\AppData\\Local\\Temp\\ipykernel_18632\\3582807722.py\u001b[0m in \u001b[0;36m<module>\u001b[1;34m\u001b[0m\n\u001b[0;32m     14\u001b[0m \u001b[0mbottle1\u001b[0m\u001b[1;33m.\u001b[0m\u001b[0mcolor\u001b[0m\u001b[1;33m\u001b[0m\u001b[1;33m\u001b[0m\u001b[0m\n\u001b[0;32m     15\u001b[0m \u001b[0mbottle1\u001b[0m\u001b[1;33m.\u001b[0m\u001b[0m_capacity\u001b[0m\u001b[1;33m\u001b[0m\u001b[1;33m\u001b[0m\u001b[0m\n\u001b[1;32m---> 16\u001b[1;33m \u001b[0mbottle1\u001b[0m\u001b[1;33m.\u001b[0m\u001b[0mcapacity\u001b[0m\u001b[1;33m\u001b[0m\u001b[1;33m\u001b[0m\u001b[0m\n\u001b[0m",
      "\u001b[1;31mAttributeError\u001b[0m: 'Bottle' object has no attribute 'capacity'"
     ]
    }
   ],
   "source": [
    "class Bottle:\n",
    "    color=\"green\"\n",
    "    def __init__(self,color,capacity):\n",
    "        self.color=color\n",
    "        self.__capacity=capacity\n",
    "    def wash(self):\n",
    "        print(self.__capacity)\n",
    "        print(\"Pls wash the bottle\")\n",
    "        \n",
    "class CopperBottle(Bottle):\n",
    "    material=\"Copper\"\n",
    "bottle1=Bottle(\"yellow\",5)\n",
    "bottle1.wash()\n",
    "bottle1.color\n",
    "bottle1._capacity\n",
    "bottle1.capacity"
   ]
  },
  {
   "cell_type": "code",
   "execution_count": null,
   "id": "d24d5e24",
   "metadata": {},
   "outputs": [],
   "source": [
    "Polymorphism:\n",
    "    Method overloading:   --> Python doesn't support method overloading.\n",
    "         Two methods having same name is called Method Overloading.\n",
    "    Method overriding:\n",
    "         If sub class /child classs has the same method as declared in the parent class then it is called Method overriding."
   ]
  },
  {
   "cell_type": "markdown",
   "id": "2bbc636b",
   "metadata": {},
   "source": [
    "1. Class variable/class member variable/static variable:\n",
    "It can share by all objects. It is common for all objects.\n"
   ]
  },
  {
   "cell_type": "markdown",
   "id": "65a6d111",
   "metadata": {},
   "source": [
    "Self is a keyword which works like pointer and point to the current object."
   ]
  },
  {
   "cell_type": "code",
   "execution_count": null,
   "id": "edb726ff",
   "metadata": {},
   "outputs": [],
   "source": []
  }
 ],
 "metadata": {
  "kernelspec": {
   "display_name": "Python 3 (ipykernel)",
   "language": "python",
   "name": "python3"
  },
  "language_info": {
   "codemirror_mode": {
    "name": "ipython",
    "version": 3
   },
   "file_extension": ".py",
   "mimetype": "text/x-python",
   "name": "python",
   "nbconvert_exporter": "python",
   "pygments_lexer": "ipython3",
   "version": "3.9.13"
  }
 },
 "nbformat": 4,
 "nbformat_minor": 5
}
