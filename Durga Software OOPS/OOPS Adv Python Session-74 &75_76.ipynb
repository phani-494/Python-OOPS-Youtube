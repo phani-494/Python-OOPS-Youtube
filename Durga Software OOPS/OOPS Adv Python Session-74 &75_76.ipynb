{
 "cells": [
  {
   "cell_type": "markdown",
   "id": "180b678e",
   "metadata": {},
   "source": [
    "# session-74 OOP \n",
    "## class,object and reference variable"
   ]
  },
  {
   "cell_type": "markdown",
   "id": "14a07246",
   "metadata": {},
   "source": [
    "### OOPs"
   ]
  },
  {
   "cell_type": "raw",
   "id": "c4189fcf",
   "metadata": {},
   "source": [
    "Function oriented Programming(FOP)/Procedure oriented Programming:\n",
    "    Total activity divided into multiple functions and we can call those functions based on our requirement.\n",
    "Object Oriented Programming:\n",
    "     Using the objects we try to solve the real word problems.\n",
    "    Objects are the real world entities.\n",
    "    \n",
    " when working with the real complex projects , OOPs concept is very powerful and helpful to us."
   ]
  },
  {
   "cell_type": "markdown",
   "id": "20182a3c",
   "metadata": {},
   "source": [
    "1. class\n",
    "2. object\n",
    "3. Reference variable"
   ]
  },
  {
   "cell_type": "markdown",
   "id": "963c095a",
   "metadata": {},
   "source": [
    "# class"
   ]
  },
  {
   "cell_type": "raw",
   "id": "f028b24d",
   "metadata": {},
   "source": [
    "ex-1: building plan.\n",
    "    suppose we want to construct a 10 floor building. so the first thing is we design a blueprint (plan/model/design).\n",
    "    using this blueprint, now we construct a building.\n",
    "    By using the same blueprint, we can construct multiple buildings.\n",
    "    \n",
    "    This blueprint is nothing but the class which contains all the information needed to construct an  object.\n",
    "   \n",
    "the physical existence of a class is called an object."
   ]
  },
  {
   "cell_type": "markdown",
   "id": "63473e6e",
   "metadata": {},
   "source": [
    "#### class: It acts as a blueprint /plan/model/design for objects.\n",
    "##### object: A physical existence of a class."
   ]
  },
  {
   "cell_type": "raw",
   "id": "3ea8c1dc",
   "metadata": {},
   "source": [
    "# suppose we have OLED TV 65 inches with some blueprint.\n",
    "# Each TV created from the blueprint will be an object."
   ]
  },
  {
   "cell_type": "raw",
   "id": "f3220b80",
   "metadata": {},
   "source": [
    "# for lord Ganesh  festivals, there will be one Mould which can be used to create many objects of ganesh idols.\n",
    "# all objects are created using one single mould .\n",
    "# Mould is the class and the idol created is the object here."
   ]
  },
  {
   "cell_type": "raw",
   "id": "12ae8453",
   "metadata": {},
   "source": [
    "The relation betweeen the class and object is one to many.\n",
    "# simply one class and many objects."
   ]
  },
  {
   "cell_type": "markdown",
   "id": "688a8539",
   "metadata": {},
   "source": [
    "### ex-3"
   ]
  },
  {
   "cell_type": "raw",
   "id": "44f7c47e",
   "metadata": {},
   "source": [
    "# every class will define some properties and some actions.\n",
    "#let us try to create the student class here.\n",
    "\n",
    "class name_of_class:\n",
    "    \"\"\" doc string \"\"\" # optional\n",
    "    properties(variables)\n",
    "    actions(methods)"
   ]
  },
  {
   "cell_type": "code",
   "execution_count": 1,
   "id": "a2d3f06e",
   "metadata": {},
   "outputs": [
    {
     "name": "stdout",
     "output_type": "stream",
     "text": [
      " This class is developed to create student objects\n"
     ]
    }
   ],
   "source": [
    "class Student:\n",
    "    \"\"\" This class is developed to create student objects\"\"\"\n",
    "    # variables(properties) name,roll no,age,class etc,\n",
    "    # actions : methods such as reading,writing,sleeping ,talking etc\n",
    "    \n",
    "print(Student.__doc__)"
   ]
  },
  {
   "cell_type": "code",
   "execution_count": 2,
   "id": "ad36d901",
   "metadata": {},
   "outputs": [
    {
     "name": "stdout",
     "output_type": "stream",
     "text": [
      "Help on class Student in module __main__:\n",
      "\n",
      "class Student(builtins.object)\n",
      " |  This class is developed to create student objects\n",
      " |  \n",
      " |  Data descriptors defined here:\n",
      " |  \n",
      " |  __dict__\n",
      " |      dictionary for instance variables (if defined)\n",
      " |  \n",
      " |  __weakref__\n",
      " |      list of weak references to the object (if defined)\n",
      "\n"
     ]
    }
   ],
   "source": [
    "help(Student)"
   ]
  },
  {
   "cell_type": "markdown",
   "id": "82fe76b5",
   "metadata": {},
   "source": [
    "1. the documentation string can be accessed using __doc__ or the help()"
   ]
  },
  {
   "cell_type": "raw",
   "id": "14e475c9",
   "metadata": {},
   "source": [
    "Every object has properties and behaviours.\n",
    "Properties(data) are specified by variables.\n",
    "Behaviour can be specified by the methods.\n",
    "\n",
    "\n",
    "In FOP, there are 2 types of variables: Local and Global\n",
    "    \n",
    "There are three types of variables in OOPs.\n",
    "1. Instance Variables (object level variables)\n",
    "2. Static Variables (class level variables)\n",
    "3. Local variables(method level variables)\n",
    "\n",
    "3 types of Methods:\n",
    "    1. Instance method\n",
    "    2. Class method\n",
    "    3. static method.\n"
   ]
  },
  {
   "cell_type": "raw",
   "id": "4c64b5a5",
   "metadata": {},
   "source": [
    "1. the functions which we uses in the class are called as methods.\n",
    "2. class contains the variables and methods\n",
    "Reference Variable:  --> used to refer to the objects.\n",
    "    Suppose we have created a TV object and we will control/access the tv using a remote.\n",
    "    this remote is simply called as a Reference varaible.\n",
    "    suppose we lost the remote,then we can simply buy another remote also and access the Tv  which means there may be multiple references to a single object.\n",
    "    \n",
    "    \n",
    "The purpose of the reference variable is to refer to the object.\n",
    "By using this, we can invoke the required functionality of an object.\n",
    "For a single object ,there will be multiple references."
   ]
  },
  {
   "cell_type": "code",
   "execution_count": 7,
   "id": "6e3baae4",
   "metadata": {},
   "outputs": [],
   "source": [
    "class Student:\n",
    "    def __init__(self): # ---> constructor\n",
    "        # whenever we create an object,automatically constructor will be executed.\n",
    "        # the variables below for the object are created because of this constructor only.\n",
    "        self.name=\"Phanindra\"\n",
    "        self.age=15\n",
    "        self.rollno=494\n",
    "    def study(self):\n",
    "        print(f\"Hello {self.name} is studying .Pls don't disturb him\")\n",
    "s1=Student() # creating the object. # here the reference variable is the s1 \n",
    "# this Student() will create an object and once object is ready we need to use some reference variable which is nothing but s1 here."
   ]
  },
  {
   "cell_type": "code",
   "execution_count": 8,
   "id": "bb59c422",
   "metadata": {},
   "outputs": [
    {
     "data": {
      "text/plain": [
       "'Phanindra'"
      ]
     },
     "execution_count": 8,
     "metadata": {},
     "output_type": "execute_result"
    }
   ],
   "source": [
    "s1.name"
   ]
  },
  {
   "cell_type": "code",
   "execution_count": 9,
   "id": "758e60bc",
   "metadata": {},
   "outputs": [
    {
     "data": {
      "text/plain": [
       "494"
      ]
     },
     "execution_count": 9,
     "metadata": {},
     "output_type": "execute_result"
    }
   ],
   "source": [
    "s1.rollno"
   ]
  },
  {
   "cell_type": "code",
   "execution_count": 10,
   "id": "55a43941",
   "metadata": {},
   "outputs": [
    {
     "name": "stdout",
     "output_type": "stream",
     "text": [
      "Hello Phanindra is studying .Pls don't disturb him\n"
     ]
    }
   ],
   "source": [
    "s1.study()"
   ]
  },
  {
   "cell_type": "code",
   "execution_count": 11,
   "id": "754e7336",
   "metadata": {},
   "outputs": [
    {
     "data": {
      "text/plain": [
       "<__main__.Student at 0x2986ff98fa0>"
      ]
     },
     "execution_count": 11,
     "metadata": {},
     "output_type": "execute_result"
    }
   ],
   "source": [
    "Student() # see here the object is created here.\n",
    "# but we need some reference variable for it.\n",
    "# to create an object, simply we need class name.\n",
    "# but for reference we need the reference variable.  --> ref_variable=class_name() \n",
    "# by using this reference variables, we can access the variables and methods  of the object as shown above."
   ]
  },
  {
   "cell_type": "raw",
   "id": "039bc345",
   "metadata": {},
   "source": [
    "# for every object we created, it will have those variables and the functions stored in it."
   ]
  },
  {
   "cell_type": "code",
   "execution_count": 12,
   "id": "9e900df9",
   "metadata": {},
   "outputs": [
    {
     "name": "stdout",
     "output_type": "stream",
     "text": [
      "Constructor Excecution started:\n"
     ]
    }
   ],
   "source": [
    "class Student:\n",
    "    def __init__(self): # ---> constructor\n",
    "        print(\"Constructor Excecution started:\")\n",
    "        # whenever we create an object,automatically constructor will be executed.\n",
    "        # the variables below for the object are created because of this constructor only.\n",
    "        self.name=\"Phanindra\"\n",
    "        self.age=15\n",
    "        self.rollno=494\n",
    "s2=Student()"
   ]
  },
  {
   "cell_type": "raw",
   "id": "2b6331e5",
   "metadata": {},
   "source": [
    "# the s2 object is created with the variables present in below the constructor."
   ]
  },
  {
   "cell_type": "code",
   "execution_count": 14,
   "id": "440e632d",
   "metadata": {},
   "outputs": [
    {
     "name": "stdout",
     "output_type": "stream",
     "text": [
      "Phanindra\n",
      "Phanindra\n"
     ]
    }
   ],
   "source": [
    "# here we created 2 objects s1 and s2.\n",
    "# for every object creation, the constructor will be executed once.\n",
    "print(s1.name)\n",
    "print(s2.name)"
   ]
  },
  {
   "cell_type": "code",
   "execution_count": 15,
   "id": "fb8d3aed",
   "metadata": {},
   "outputs": [
    {
     "name": "stdout",
     "output_type": "stream",
     "text": [
      "2853736908400\n",
      "2853736867008\n"
     ]
    }
   ],
   "source": [
    "# for all the objects we created are having the same name and roll no.\n",
    "# so this is meaningless here. so we will try to learn much more here.\n",
    "# s1 and s2 are 2 different objects .\n",
    "print(id(s1))\n",
    "print(id(s2))"
   ]
  },
  {
   "cell_type": "raw",
   "id": "ae84a24a",
   "metadata": {},
   "source": [
    "# the data should be changed from object to the object here."
   ]
  },
  {
   "cell_type": "markdown",
   "id": "3c285066",
   "metadata": {},
   "source": [
    "# adv session-75\n",
    "## The complete post mortem of the self variable"
   ]
  },
  {
   "cell_type": "raw",
   "id": "622b9866",
   "metadata": {},
   "source": [
    "class contains variables and methods which are required for every object.\n",
    "For a single class, we can create any number of objects.---> one class -many objects.\n",
    "For a single object,we can take any number of the reference variables.(one-many).\n",
    "By using the ref variable, we can operate object i.e, by using the reference variable we can access variables and methods."
   ]
  },
  {
   "cell_type": "raw",
   "id": "c6ebe421",
   "metadata": {},
   "source": [
    "when an object is created , init will be executed and the object will store the variables and methods in it.\n",
    "But to access them,we need the reference variable.\n",
    "\n",
    "what Student() will do?\n",
    "it will create an object.\n",
    " Python Virtual Machine (PVM) will create object and allocate memory.\n",
    " PVM will execute __init__() to declare and initialize variables of that object.\n",
    " Because of the constructor execution, the variables in class will be created inside the object and the values are initialized.\n",
    " \n",
    "What s=Student() will do?\n",
    "For the newly created and already initialized object,we are assigning s reference variable.\n",
    "By using this s, we can access variables and methods on that object."
   ]
  },
  {
   "cell_type": "raw",
   "id": "cdf10649",
   "metadata": {},
   "source": [
    "1. within the class, if u want to access the variable, we use the self \n",
    "2. outside the class, we will use the reference variable. "
   ]
  },
  {
   "cell_type": "code",
   "execution_count": 1,
   "id": "e548a23f",
   "metadata": {},
   "outputs": [],
   "source": [
    "class Student:\n",
    "    def __init__(self): \n",
    "        self.name=\"Phanindra\"\n",
    "        self.age=15\n",
    "        self.rollno=494\n",
    "std1=Student()\n",
    "std2=Student() # std1 and std2 are the different objects."
   ]
  },
  {
   "cell_type": "code",
   "execution_count": 2,
   "id": "6586bd8d",
   "metadata": {},
   "outputs": [
    {
     "name": "stdout",
     "output_type": "stream",
     "text": [
      "Student 1: Phanindra 494 15\n",
      "Student 2: Phanindra 494 15\n"
     ]
    }
   ],
   "source": [
    "print(\"Student 1:\",std1.name,std1.rollno,std1.age)\n",
    "print(\"Student 2:\",std2.name,std2.rollno,std2.age)"
   ]
  },
  {
   "cell_type": "raw",
   "id": "7be9e17f",
   "metadata": {},
   "source": [
    "# see that both the objects are having the same information here which is meaningless.\n",
    "# for every object to object,the data should be vary even atleast one variable.\n",
    "let us try to understand simply about the object and Constructor.\n",
    "\n",
    "suppose in your house,a baby is born and after some time naming ceremony will happens.\n",
    "here baby born is the object creation and naming ceremony for that baby is object initialization which is done by __init__()."
   ]
  },
  {
   "cell_type": "code",
   "execution_count": 4,
   "id": "ef60e9d6",
   "metadata": {},
   "outputs": [
    {
     "ename": "TypeError",
     "evalue": "__init__() takes 1 positional argument but 4 were given",
     "output_type": "error",
     "traceback": [
      "\u001b[1;31m---------------------------------------------------------------------------\u001b[0m",
      "\u001b[1;31mTypeError\u001b[0m                                 Traceback (most recent call last)",
      "\u001b[1;32m~\\AppData\\Local\\Temp\\ipykernel_5684\\1560511318.py\u001b[0m in \u001b[0;36m<module>\u001b[1;34m\u001b[0m\n\u001b[0;32m      4\u001b[0m         \u001b[0mself\u001b[0m\u001b[1;33m.\u001b[0m\u001b[0mage\u001b[0m\u001b[1;33m=\u001b[0m\u001b[1;36m15\u001b[0m\u001b[1;33m\u001b[0m\u001b[1;33m\u001b[0m\u001b[0m\n\u001b[0;32m      5\u001b[0m         \u001b[0mself\u001b[0m\u001b[1;33m.\u001b[0m\u001b[0mrollno\u001b[0m\u001b[1;33m=\u001b[0m\u001b[1;36m494\u001b[0m\u001b[1;33m\u001b[0m\u001b[1;33m\u001b[0m\u001b[0m\n\u001b[1;32m----> 6\u001b[1;33m \u001b[0mstd1\u001b[0m\u001b[1;33m=\u001b[0m\u001b[0mStudent\u001b[0m\u001b[1;33m(\u001b[0m\u001b[1;34m\"Indra\"\u001b[0m\u001b[1;33m,\u001b[0m\u001b[1;36m15\u001b[0m\u001b[1;33m,\u001b[0m\u001b[1;36m494\u001b[0m\u001b[1;33m)\u001b[0m\u001b[1;33m\u001b[0m\u001b[1;33m\u001b[0m\u001b[0m\n\u001b[0m",
      "\u001b[1;31mTypeError\u001b[0m: __init__() takes 1 positional argument but 4 were given"
     ]
    }
   ],
   "source": [
    "class Student:\n",
    "    def __init__(self): \n",
    "        self.name=\"Phanindra\"\n",
    "        self.age=15\n",
    "        self.rollno=494\n",
    "std1=Student(\"Indra\",15,494)"
   ]
  },
  {
   "cell_type": "raw",
   "id": "5013f2b8",
   "metadata": {},
   "source": [
    "TypeError: __init__() takes 1 positional argument but 4 were given.\n",
    "\n",
    " where we provided 4 here?\n",
    " In Student we provided 3 only.\n",
    " here one more argument will be provided by the PVM. so total will be 4.\n",
    " \n",
    " \n",
    "     here the __init__ is already having one positional argument which  is provided by PVM.\n",
    "    so we need to create 3 more arguments for the init here\n",
    "    the value for self will be automatically provided by the PVM."
   ]
  },
  {
   "cell_type": "code",
   "execution_count": 5,
   "id": "f26770ba",
   "metadata": {},
   "outputs": [],
   "source": [
    "class Student:\n",
    "    def __init__(self,name,age,rollno): # these are just normal variables to hold the data.\n",
    "        self.name=name    # this self.name is the standard variable \n",
    "        self.age=age\n",
    "        self.rollno=rollno\n",
    "std1=Student(\"Indra\",15,494)"
   ]
  },
  {
   "cell_type": "code",
   "execution_count": 6,
   "id": "ac07a9f6",
   "metadata": {},
   "outputs": [
    {
     "data": {
      "text/plain": [
       "'Indra'"
      ]
     },
     "execution_count": 6,
     "metadata": {},
     "output_type": "execute_result"
    }
   ],
   "source": [
    "std1.name"
   ]
  },
  {
   "cell_type": "code",
   "execution_count": 10,
   "id": "5a5cbd26",
   "metadata": {},
   "outputs": [],
   "source": [
    "std2=Student(\"Mahi\",28,495)"
   ]
  },
  {
   "cell_type": "code",
   "execution_count": 12,
   "id": "26aa0041",
   "metadata": {},
   "outputs": [
    {
     "name": "stdout",
     "output_type": "stream",
     "text": [
      "Student 1: Indra 494 15\n",
      "Student 2: Mahi 495 28\n"
     ]
    }
   ],
   "source": [
    "# now the data is varying from su=tudent to student here. \n",
    "print(\"Student 1:\",std1.name,std1.rollno,std1.age)\n",
    "print(\"Student 2:\",std2.name,std2.rollno,std2.age)"
   ]
  },
  {
   "cell_type": "markdown",
   "id": "18c73142",
   "metadata": {},
   "source": [
    "#### the complete post mortem of the self variable"
   ]
  },
  {
   "cell_type": "code",
   "execution_count": 14,
   "id": "6ca9f35d",
   "metadata": {},
   "outputs": [
    {
     "name": "stdout",
     "output_type": "stream",
     "text": [
      "Address of object referred by self: 2366495148016\n",
      " Address of the object referred by the t:  2366495148016\n"
     ]
    }
   ],
   "source": [
    "class Test:\n",
    "    def __init__(self):\n",
    "        print(\"Address of object referred by self:\",id(self))\n",
    "        pass\n",
    "t=Test()\n",
    "print(\" Address of the object referred by the t: \",id(t))\n",
    "# see that both t and self  are having the same address and pointing to same object."
   ]
  },
  {
   "cell_type": "markdown",
   "id": "5c251b80",
   "metadata": {},
   "source": [
    "1. self is a reference variable which is always pointing to current object.\n",
    "2. Within the class we need to access the data. so we use self \n",
    "3. Here the self is pointing to the current object.\n",
    "4. Within the python class, to access/refer the current object,we can use self.\n",
    "5. The first argument to the constructor is always self.\n",
    "6. The first argument to the instance method is always self.\n",
    "7. We are not required to provide the value for the self variable. PVM itself will provide the value.\n"
   ]
  },
  {
   "cell_type": "raw",
   "id": "ccc5f0b5",
   "metadata": {},
   "source": [
    "we can use self always within the class only.\n",
    "Inside the constructor,we can use self to declare object related variables(instance variables)\n",
    "Inside the instance methods,we can use self to access the values of instance variables."
   ]
  },
  {
   "cell_type": "raw",
   "id": "89125c06",
   "metadata": {},
   "source": [
    "* self is not a keyword. inplace of the self,we can use any other names such as delf,kelf.....etc\n",
    "# whatever the first argument we are passing, it is automatically pointing to the object variables.\n",
    "# but it is recommended to use self only."
   ]
  },
  {
   "cell_type": "code",
   "execution_count": 5,
   "id": "4fca93e4",
   "metadata": {},
   "outputs": [],
   "source": [
    "class Student:\n",
    "    def __init__(delf,name,age,rollno):\n",
    "        delf.name=name\n",
    "        delf.age=age\n",
    "        delf.rollno=rollno\n",
    "    def study(kelf):\n",
    "        print(f\"Hello {kelf.name} is studying .Pls don't disturb him\")\n",
    "s1=Student(\"Indra\",54,494)"
   ]
  },
  {
   "cell_type": "code",
   "execution_count": 6,
   "id": "d6878c7d",
   "metadata": {},
   "outputs": [
    {
     "data": {
      "text/plain": [
       "'Indra'"
      ]
     },
     "execution_count": 6,
     "metadata": {},
     "output_type": "execute_result"
    }
   ],
   "source": [
    "s1.name"
   ]
  },
  {
   "cell_type": "code",
   "execution_count": 7,
   "id": "49dd9696",
   "metadata": {},
   "outputs": [
    {
     "data": {
      "text/plain": [
       "54"
      ]
     },
     "execution_count": 7,
     "metadata": {},
     "output_type": "execute_result"
    }
   ],
   "source": [
    "s1.age"
   ]
  },
  {
   "cell_type": "code",
   "execution_count": 8,
   "id": "07d2cf02",
   "metadata": {},
   "outputs": [
    {
     "name": "stdout",
     "output_type": "stream",
     "text": [
      "Hello Indra is studying .Pls don't disturb him\n"
     ]
    }
   ],
   "source": [
    "s1.study()"
   ]
  },
  {
   "cell_type": "code",
   "execution_count": 9,
   "id": "b2a0b3df",
   "metadata": {},
   "outputs": [
    {
     "name": "stdout",
     "output_type": "stream",
     "text": [
      "Constructor\n"
     ]
    }
   ],
   "source": [
    "class Test:\n",
    "    def __init__(x): # it is valid only since we can use any argument in place of self.\n",
    "        # here x acts as self.\n",
    "        print(\"Constructor\")\n",
    "t=Test()"
   ]
  },
  {
   "cell_type": "code",
   "execution_count": 10,
   "id": "0c7382fd",
   "metadata": {},
   "outputs": [
    {
     "ename": "TypeError",
     "evalue": "__init__() takes 1 positional argument but 2 were given",
     "output_type": "error",
     "traceback": [
      "\u001b[1;31m---------------------------------------------------------------------------\u001b[0m",
      "\u001b[1;31mTypeError\u001b[0m                                 Traceback (most recent call last)",
      "\u001b[1;32m~\\AppData\\Local\\Temp\\ipykernel_25632\\1426966287.py\u001b[0m in \u001b[0;36m<module>\u001b[1;34m\u001b[0m\n\u001b[0;32m      3\u001b[0m         \u001b[1;31m# here x acts as self.\u001b[0m\u001b[1;33m\u001b[0m\u001b[1;33m\u001b[0m\u001b[0m\n\u001b[0;32m      4\u001b[0m         \u001b[0mprint\u001b[0m\u001b[1;33m(\u001b[0m\u001b[1;34m\"Constructor\"\u001b[0m\u001b[1;33m)\u001b[0m\u001b[1;33m\u001b[0m\u001b[1;33m\u001b[0m\u001b[0m\n\u001b[1;32m----> 5\u001b[1;33m \u001b[0mt\u001b[0m\u001b[1;33m=\u001b[0m\u001b[0mTest\u001b[0m\u001b[1;33m(\u001b[0m\u001b[1;36m10\u001b[0m\u001b[1;33m)\u001b[0m\u001b[1;33m\u001b[0m\u001b[1;33m\u001b[0m\u001b[0m\n\u001b[0m",
      "\u001b[1;31mTypeError\u001b[0m: __init__() takes 1 positional argument but 2 were given"
     ]
    }
   ],
   "source": [
    "class Test:\n",
    "    def __init__(x): # it is valid only since we can use any argument in place of self.\n",
    "        # here x acts as self.\n",
    "        print(\"Constructor\")\n",
    "t=Test(10)\n",
    "# t=Test(10) means we are passing the 2 arguments.\n",
    "#one is 10 and another argument which will be provided by PVM.(nothing but as t )"
   ]
  },
  {
   "cell_type": "code",
   "execution_count": 12,
   "id": "f5f21cdb",
   "metadata": {},
   "outputs": [
    {
     "ename": "TypeError",
     "evalue": "__init__() got multiple values for argument 'x'",
     "output_type": "error",
     "traceback": [
      "\u001b[1;31m---------------------------------------------------------------------------\u001b[0m",
      "\u001b[1;31mTypeError\u001b[0m                                 Traceback (most recent call last)",
      "\u001b[1;32m~\\AppData\\Local\\Temp\\ipykernel_25632\\3443141393.py\u001b[0m in \u001b[0;36m<module>\u001b[1;34m\u001b[0m\n\u001b[0;32m      3\u001b[0m         \u001b[1;31m# here x acts as self.\u001b[0m\u001b[1;33m\u001b[0m\u001b[1;33m\u001b[0m\u001b[0m\n\u001b[0;32m      4\u001b[0m         \u001b[0mprint\u001b[0m\u001b[1;33m(\u001b[0m\u001b[1;34m\"Constructor\"\u001b[0m\u001b[1;33m)\u001b[0m\u001b[1;33m\u001b[0m\u001b[1;33m\u001b[0m\u001b[0m\n\u001b[1;32m----> 5\u001b[1;33m \u001b[0mt\u001b[0m\u001b[1;33m=\u001b[0m\u001b[0mTest\u001b[0m\u001b[1;33m(\u001b[0m\u001b[0mx\u001b[0m\u001b[1;33m=\u001b[0m\u001b[1;36m10\u001b[0m\u001b[1;33m)\u001b[0m\u001b[1;33m\u001b[0m\u001b[1;33m\u001b[0m\u001b[0m\n\u001b[0m\u001b[0;32m      6\u001b[0m \u001b[1;31m# for x already provided the value an and again we are providing one more value as x=10 which means multiple values are given here.\u001b[0m\u001b[1;33m\u001b[0m\u001b[1;33m\u001b[0m\u001b[0m\n",
      "\u001b[1;31mTypeError\u001b[0m: __init__() got multiple values for argument 'x'"
     ]
    }
   ],
   "source": [
    "class Test:\n",
    "    def __init__(x): # it is valid only since we can use any argument in place of self.\n",
    "        # here x acts as self.\n",
    "        print(\"Constructor\")\n",
    "t=Test(x=10)\n",
    "# for x already provided the value an and again we are providing one more value as x=10 which means multiple values are given here.\n"
   ]
  },
  {
   "cell_type": "code",
   "execution_count": 13,
   "id": "4ebb8842",
   "metadata": {},
   "outputs": [
    {
     "ename": "TypeError",
     "evalue": "__init__() takes 0 positional arguments but 1 was given",
     "output_type": "error",
     "traceback": [
      "\u001b[1;31m---------------------------------------------------------------------------\u001b[0m",
      "\u001b[1;31mTypeError\u001b[0m                                 Traceback (most recent call last)",
      "\u001b[1;32m~\\AppData\\Local\\Temp\\ipykernel_25632\\436035219.py\u001b[0m in \u001b[0;36m<module>\u001b[1;34m\u001b[0m\n\u001b[0;32m      2\u001b[0m     \u001b[1;32mdef\u001b[0m \u001b[0m__init__\u001b[0m\u001b[1;33m(\u001b[0m\u001b[1;33m)\u001b[0m\u001b[1;33m:\u001b[0m\u001b[1;33m\u001b[0m\u001b[1;33m\u001b[0m\u001b[0m\n\u001b[0;32m      3\u001b[0m         \u001b[0mprint\u001b[0m\u001b[1;33m(\u001b[0m\u001b[1;34m\"Constructor\"\u001b[0m\u001b[1;33m)\u001b[0m\u001b[1;33m\u001b[0m\u001b[1;33m\u001b[0m\u001b[0m\n\u001b[1;32m----> 4\u001b[1;33m \u001b[0mt\u001b[0m\u001b[1;33m=\u001b[0m\u001b[0mTest\u001b[0m\u001b[1;33m(\u001b[0m\u001b[1;33m)\u001b[0m\u001b[1;33m\u001b[0m\u001b[1;33m\u001b[0m\u001b[0m\n\u001b[0m",
      "\u001b[1;31mTypeError\u001b[0m: __init__() takes 0 positional arguments but 1 was given"
     ]
    }
   ],
   "source": [
    "class Test:\n",
    "    def __init__(): # for the constructor atleast one argument should be given to it.\n",
    "        \n",
    "        print(\"Constructor\")\n",
    "t=Test()"
   ]
  },
  {
   "cell_type": "markdown",
   "id": "a47278ae",
   "metadata": {},
   "source": [
    "# session-76\n",
    "## The complete post mortem of Python Constructors"
   ]
  },
  {
   "cell_type": "raw",
   "id": "4b186f84",
   "metadata": {},
   "source": [
    "1. Constructor is a special method.\n",
    "2. The name of the constructor is always __init__().\n",
    "3. We are not required to call constructor explicitly. It will be executed automatically when we are creating an object.\n",
    "4. per object, constructor will be executed only once."
   ]
  },
  {
   "cell_type": "code",
   "execution_count": 15,
   "id": "fcf58b0d",
   "metadata": {},
   "outputs": [
    {
     "name": "stdout",
     "output_type": "stream",
     "text": [
      "Constructor is executed here\n"
     ]
    }
   ],
   "source": [
    "class Test:\n",
    "    def __init__(self):\n",
    "        print(\"Constructor is executed here\")\n",
    "t=Test() # once the object is created here, automatically constructor is called."
   ]
  },
  {
   "cell_type": "code",
   "execution_count": 17,
   "id": "5fa9e68d",
   "metadata": {},
   "outputs": [
    {
     "name": "stdout",
     "output_type": "stream",
     "text": [
      "Constructor is executed here\n",
      "Constructor is executed here\n",
      "Constructor is executed here\n",
      "Constructor is executed here\n"
     ]
    }
   ],
   "source": [
    "class Test:\n",
    "    def __init__(self):\n",
    "        print(\"Constructor is executed here\")\n",
    "t1=Test() \n",
    "t2=Test() \n",
    "t3=Test() \n",
    "t4=Test() # 4 objects created. so 4 times the constructor is called here."
   ]
  },
  {
   "cell_type": "raw",
   "id": "8c4cff81",
   "metadata": {},
   "source": [
    "5. The main purpose of the constructor is to declare and initialize the instance variables.\n",
    "6. init means initialization here.\n",
    "7. Constructor should take atleast one argument(self).\n",
    "8. Within the python class Constructor is optional. If we are not providing constructor, default constructor will be provided by the PVM."
   ]
  },
  {
   "cell_type": "code",
   "execution_count": 19,
   "id": "4e68d366",
   "metadata": {},
   "outputs": [
    {
     "name": "stdout",
     "output_type": "stream",
     "text": [
      "Method execution\n"
     ]
    }
   ],
   "source": [
    "class Test:\n",
    "    def m1(self):\n",
    "        print(\"Method execution\")\n",
    "t=Test()  # default constructor(present internally) will be executed which is provided by PVM.\n",
    "t.m1()"
   ]
  },
  {
   "cell_type": "raw",
   "id": "11f14a8f",
   "metadata": {},
   "source": [
    "1. since __init__ is a special method, we can call it explicitly. it will be executed but a new object won't be created since same reference will be passed again here.\n",
    "2. we can call constructor explicitly ,then it will be executed just like a normal method and new object won't be created.\n",
    "3. "
   ]
  },
  {
   "cell_type": "code",
   "execution_count": 1,
   "id": "25b5040b",
   "metadata": {},
   "outputs": [
    {
     "name": "stdout",
     "output_type": "stream",
     "text": [
      "Constructor execution\n",
      "Constructor execution\n",
      "Constructor execution\n",
      "Constructor execution\n",
      "Constructor execution\n"
     ]
    }
   ],
   "source": [
    "class Test:\n",
    "    def __init__(self):\n",
    "        print('Constructor execution')\n",
    "t=Test()\n",
    "t.__init__()\n",
    "t.__init__()\n",
    "t.__init__()\n",
    "t.__init__()"
   ]
  },
  {
   "cell_type": "code",
   "execution_count": 2,
   "id": "c306a031",
   "metadata": {},
   "outputs": [
    {
     "name": "stdout",
     "output_type": "stream",
     "text": [
      "Constructor execution 2991029650384\n",
      "Constructor execution 2991029650384\n",
      "Constructor execution 2991029650384\n",
      "Constructor execution 2991029650384\n",
      "Constructor execution 2991029650384\n"
     ]
    }
   ],
   "source": [
    "class Test:\n",
    "    def __init__(self):\n",
    "        print('Constructor execution',id(self))\n",
    "t=Test()\n",
    "t.__init__()\n",
    "t.__init__()\n",
    "t.__init__()\n",
    "t.__init__()"
   ]
  },
  {
   "cell_type": "markdown",
   "id": "d5acdfae",
   "metadata": {},
   "source": [
    "#### overloaded methods: method overloading "
   ]
  },
  {
   "cell_type": "raw",
   "id": "02f12bbc",
   "metadata": {},
   "source": [
    "1. constructor overloading /method overloading is not possible in python.\n",
    "2. PVM will always consider the most recent /last constructor.\n",
    "3. once we define the second constructor, automatically the first constructor will be lost.\n",
    "4. If we are trying to declare multiple constructors,PVM will always consider only last constructor."
   ]
  },
  {
   "cell_type": "code",
   "execution_count": 4,
   "id": "c1937005",
   "metadata": {},
   "outputs": [
    {
     "ename": "TypeError",
     "evalue": "__init__() missing 1 required positional argument: 'x'",
     "output_type": "error",
     "traceback": [
      "\u001b[1;31m---------------------------------------------------------------------------\u001b[0m",
      "\u001b[1;31mTypeError\u001b[0m                                 Traceback (most recent call last)",
      "\u001b[1;32m~\\AppData\\Local\\Temp\\ipykernel_28612\\1013460667.py\u001b[0m in \u001b[0;36m<module>\u001b[1;34m\u001b[0m\n\u001b[0;32m      4\u001b[0m     \u001b[1;32mdef\u001b[0m \u001b[0m__init__\u001b[0m\u001b[1;33m(\u001b[0m\u001b[0mself\u001b[0m\u001b[1;33m,\u001b[0m\u001b[0mx\u001b[0m\u001b[1;33m)\u001b[0m\u001b[1;33m:\u001b[0m\u001b[1;33m\u001b[0m\u001b[1;33m\u001b[0m\u001b[0m\n\u001b[0;32m      5\u001b[0m         \u001b[0mprint\u001b[0m\u001b[1;33m(\u001b[0m\u001b[1;34m'one-arg constructor'\u001b[0m\u001b[1;33m)\u001b[0m\u001b[1;33m\u001b[0m\u001b[1;33m\u001b[0m\u001b[0m\n\u001b[1;32m----> 6\u001b[1;33m \u001b[0mt\u001b[0m\u001b[1;33m=\u001b[0m\u001b[0mTest\u001b[0m\u001b[1;33m(\u001b[0m\u001b[1;33m)\u001b[0m\u001b[1;33m\u001b[0m\u001b[1;33m\u001b[0m\u001b[0m\n\u001b[0m",
      "\u001b[1;31mTypeError\u001b[0m: __init__() missing 1 required positional argument: 'x'"
     ]
    }
   ],
   "source": [
    "class Test:\n",
    "    def __init__(self):\n",
    "        print('no arg constructor')\n",
    "    def __init__(self,x):\n",
    "        print('one-arg constructor')\n",
    "t=Test()"
   ]
  },
  {
   "cell_type": "code",
   "execution_count": 5,
   "id": "0878ae7f",
   "metadata": {},
   "outputs": [
    {
     "name": "stdout",
     "output_type": "stream",
     "text": [
      "one-arg constructor\n"
     ]
    }
   ],
   "source": [
    "class Test:\n",
    "    def __init__(self):\n",
    "        print('no arg constructor')\n",
    "    def __init__(self,x):\n",
    "        print('one-arg constructor')\n",
    "t=Test(10)"
   ]
  },
  {
   "cell_type": "code",
   "execution_count": 6,
   "id": "c1c909cf",
   "metadata": {},
   "outputs": [
    {
     "ename": "TypeError",
     "evalue": "__init__() takes 1 positional argument but 2 were given",
     "output_type": "error",
     "traceback": [
      "\u001b[1;31m---------------------------------------------------------------------------\u001b[0m",
      "\u001b[1;31mTypeError\u001b[0m                                 Traceback (most recent call last)",
      "\u001b[1;32m~\\AppData\\Local\\Temp\\ipykernel_28612\\1921680238.py\u001b[0m in \u001b[0;36m<module>\u001b[1;34m\u001b[0m\n\u001b[0;32m      5\u001b[0m         \u001b[0mprint\u001b[0m\u001b[1;33m(\u001b[0m\u001b[1;34m'no arg constructor'\u001b[0m\u001b[1;33m)\u001b[0m\u001b[1;33m\u001b[0m\u001b[1;33m\u001b[0m\u001b[0m\n\u001b[0;32m      6\u001b[0m \u001b[1;33m\u001b[0m\u001b[0m\n\u001b[1;32m----> 7\u001b[1;33m \u001b[0mt\u001b[0m\u001b[1;33m=\u001b[0m\u001b[0mTest\u001b[0m\u001b[1;33m(\u001b[0m\u001b[1;36m10\u001b[0m\u001b[1;33m)\u001b[0m\u001b[1;33m\u001b[0m\u001b[1;33m\u001b[0m\u001b[0m\n\u001b[0m",
      "\u001b[1;31mTypeError\u001b[0m: __init__() takes 1 positional argument but 2 were given"
     ]
    }
   ],
   "source": [
    "class Test:\n",
    "    def __init__(self,x):\n",
    "        print('one-arg constructor')\n",
    "    def __init__(self):\n",
    "        print('no arg constructor')\n",
    "    \n",
    "t=Test(10)"
   ]
  },
  {
   "cell_type": "code",
   "execution_count": 7,
   "id": "f1d44fea",
   "metadata": {},
   "outputs": [
    {
     "name": "stdout",
     "output_type": "stream",
     "text": [
      "no arg constructor\n"
     ]
    }
   ],
   "source": [
    "class Test:\n",
    "    def __init__(self,x):\n",
    "        print('one-arg constructor')\n",
    "    def __init__(self):\n",
    "        print('no arg constructor')\n",
    "    \n",
    "t=Test()"
   ]
  },
  {
   "cell_type": "code",
   "execution_count": 8,
   "id": "aa9290df",
   "metadata": {},
   "outputs": [
    {
     "ename": "TypeError",
     "evalue": "__init__() takes 1 positional argument but 2 were given",
     "output_type": "error",
     "traceback": [
      "\u001b[1;31m---------------------------------------------------------------------------\u001b[0m",
      "\u001b[1;31mTypeError\u001b[0m                                 Traceback (most recent call last)",
      "\u001b[1;32m~\\AppData\\Local\\Temp\\ipykernel_28612\\2250755830.py\u001b[0m in \u001b[0;36m<module>\u001b[1;34m\u001b[0m\n\u001b[0;32m      5\u001b[0m         \u001b[0mprint\u001b[0m\u001b[1;33m(\u001b[0m\u001b[1;34m'no arg constructor'\u001b[0m\u001b[1;33m)\u001b[0m\u001b[1;33m\u001b[0m\u001b[1;33m\u001b[0m\u001b[0m\n\u001b[0;32m      6\u001b[0m \u001b[1;33m\u001b[0m\u001b[0m\n\u001b[1;32m----> 7\u001b[1;33m \u001b[0mt\u001b[0m\u001b[1;33m=\u001b[0m\u001b[0mTest\u001b[0m\u001b[1;33m(\u001b[0m\u001b[1;36m10\u001b[0m\u001b[1;33m)\u001b[0m\u001b[1;33m\u001b[0m\u001b[1;33m\u001b[0m\u001b[0m\n\u001b[0m\u001b[0;32m      8\u001b[0m \u001b[0mt\u001b[0m\u001b[1;33m=\u001b[0m\u001b[0mTest\u001b[0m\u001b[1;33m(\u001b[0m\u001b[1;33m)\u001b[0m\u001b[1;33m\u001b[0m\u001b[1;33m\u001b[0m\u001b[0m\n",
      "\u001b[1;31mTypeError\u001b[0m: __init__() takes 1 positional argument but 2 were given"
     ]
    }
   ],
   "source": [
    "class Test:\n",
    "    def __init__(self,x):\n",
    "        print('one-arg constructor')\n",
    "    def __init__(self):\n",
    "        print('no arg constructor')\n",
    "    \n",
    "t=Test(10)\n",
    "t=Test()"
   ]
  },
  {
   "cell_type": "code",
   "execution_count": 10,
   "id": "1e6c98d8",
   "metadata": {},
   "outputs": [
    {
     "name": "stdout",
     "output_type": "stream",
     "text": [
      "Durga\n",
      "Phani\n"
     ]
    }
   ],
   "source": [
    "class Test:\n",
    "    def __init__(self,name):\n",
    "        self.name=name\n",
    "t=Test(\"Durga\")\n",
    "print(t.name)\n",
    "t.__init__(\"Phani\") # Durga name will be replaced with Phani. The new object won't be created for Phani since same reference used here.\n",
    "print(t.name)"
   ]
  },
  {
   "cell_type": "code",
   "execution_count": 11,
   "id": "bbfdf2b6",
   "metadata": {},
   "outputs": [],
   "source": [
    "# let us see some tricky questions here.\n",
    "class Test:\n",
    "    def Test(self):\n",
    "        print(\" this method is for test\")\n",
    "t=Test() # __init__() will be executed here. not the def Test(self)\n",
    "# this doesn't print anything here."
   ]
  },
  {
   "cell_type": "code",
   "execution_count": 12,
   "id": "130c8d9c",
   "metadata": {},
   "outputs": [
    {
     "name": "stdout",
     "output_type": "stream",
     "text": [
      " this method is for test\n"
     ]
    }
   ],
   "source": [
    "t.Test()"
   ]
  },
  {
   "cell_type": "code",
   "execution_count": 13,
   "id": "ea28c0e4",
   "metadata": {},
   "outputs": [],
   "source": [
    "def Test(): # this will not be executed as it is overrided with another Test.\n",
    "    print(\"Test Function\")\n",
    "class Test:\n",
    "    def Test(self):\n",
    "        print(\" this method is for test\")\n",
    "t=Test()\n"
   ]
  },
  {
   "cell_type": "code",
   "execution_count": 14,
   "id": "ca3a9ffc",
   "metadata": {},
   "outputs": [
    {
     "name": "stdout",
     "output_type": "stream",
     "text": [
      "Test Function\n"
     ]
    }
   ],
   "source": [
    " class Test:\n",
    "    def Test(self):\n",
    "        print(\" this method is for test\")\n",
    "def Test(): # this will be executed as it is overrided with another Test.\n",
    "    print(\"Test Function\")\n",
    "t=Test()"
   ]
  },
  {
   "cell_type": "markdown",
   "id": "f6f9e859",
   "metadata": {},
   "source": [
    "### Differences between the Method and Constructor"
   ]
  },
  {
   "cell_type": "code",
   "execution_count": null,
   "id": "51859b1a",
   "metadata": {},
   "outputs": [],
   "source": [
    "1. Method name can be anything.                                |  Constructor name should be __init__().\n",
    "2. Methods won't be executed automatically,                    |  Constructors will be executed automatically whenever we \n",
    "    we have to call them explicitly.                           |    are creating an object.\n",
    "3. Per object, we can call method any number of times.         |  Per object Constructor will be executed only once.\n",
    "4. Inside method, we can write business logic/ problem solving |  Inside Constructor we ahve to write code to declare and \n",
    " based on our requirement.                                     |    initialize instance variables."
   ]
  }
 ],
 "metadata": {
  "kernelspec": {
   "display_name": "Python 3 (ipykernel)",
   "language": "python",
   "name": "python3"
  },
  "language_info": {
   "codemirror_mode": {
    "name": "ipython",
    "version": 3
   },
   "file_extension": ".py",
   "mimetype": "text/x-python",
   "name": "python",
   "nbconvert_exporter": "python",
   "pygments_lexer": "ipython3",
   "version": "3.9.13"
  }
 },
 "nbformat": 4,
 "nbformat_minor": 5
}
