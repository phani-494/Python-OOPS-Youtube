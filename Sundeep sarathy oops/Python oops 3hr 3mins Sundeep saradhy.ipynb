{
 "cells": [
  {
   "cell_type": "markdown",
   "id": "ea7f79e8",
   "metadata": {},
   "source": [
    "## Class"
   ]
  },
  {
   "cell_type": "markdown",
   "id": "2694be8e",
   "metadata": {},
   "source": [
    "1. It is a logical entity."
   ]
  },
  {
   "cell_type": "markdown",
   "id": "79688b98",
   "metadata": {},
   "source": [
    "Object : It is a physical entity."
   ]
  },
  {
   "cell_type": "code",
   "execution_count": 3,
   "id": "738be1c0",
   "metadata": {},
   "outputs": [
    {
     "ename": "NameError",
     "evalue": "name 'color' is not defined",
     "output_type": "error",
     "traceback": [
      "\u001b[1;31m---------------------------------------------------------------------------\u001b[0m",
      "\u001b[1;31mNameError\u001b[0m                                 Traceback (most recent call last)",
      "\u001b[1;32m~\\AppData\\Local\\Temp\\ipykernel_5352\\1024831326.py\u001b[0m in \u001b[0;36m<module>\u001b[1;34m\u001b[0m\n\u001b[0;32m      8\u001b[0m         \u001b[0mprint\u001b[0m\u001b[1;33m(\u001b[0m\u001b[1;34m\"Sleeping\"\u001b[0m\u001b[1;33m)\u001b[0m\u001b[1;33m\u001b[0m\u001b[1;33m\u001b[0m\u001b[0m\n\u001b[0;32m      9\u001b[0m \u001b[1;33m\u001b[0m\u001b[0m\n\u001b[1;32m---> 10\u001b[1;33m \u001b[0mprint\u001b[0m\u001b[1;33m(\u001b[0m\u001b[0mcolor\u001b[0m\u001b[1;33m)\u001b[0m\u001b[1;33m\u001b[0m\u001b[1;33m\u001b[0m\u001b[0m\n\u001b[0m",
      "\u001b[1;31mNameError\u001b[0m: name 'color' is not defined"
     ]
    }
   ],
   "source": [
    "class Human:\n",
    "    color=\"white\"\n",
    "    height=6\n",
    "    name=\"Indra\"\n",
    "    def study(self):\n",
    "        print(\"Studying\")\n",
    "    def sleeping(self):\n",
    "        print(\"Sleeping\")\n",
    "        \n",
    "print(color) # see here we cannot directly access the variables/attributes  and methods here without creating the object."
   ]
  },
  {
   "cell_type": "code",
   "execution_count": 4,
   "id": "2fa19c43",
   "metadata": {},
   "outputs": [
    {
     "name": "stdout",
     "output_type": "stream",
     "text": [
      "white\n"
     ]
    }
   ],
   "source": [
    "class Human:\n",
    "    color=\"white\"\n",
    "    height=6\n",
    "    name=\"Indra\"\n",
    "    def study(self):\n",
    "        print(\"Studying\")\n",
    "    def sleeping(self):\n",
    "        print(\"Sleeping\")\n",
    "h1=Human()    \n",
    "print(h1.color)"
   ]
  },
  {
   "cell_type": "markdown",
   "id": "9e59a366",
   "metadata": {},
   "source": [
    "In inheritance, Parent class is the base class and child class is the derived class."
   ]
  },
  {
   "cell_type": "raw",
   "id": "0662fb6f",
   "metadata": {},
   "source": [
    "Hierarchical Inheritance:\n",
    "     we use one base class and creates two derived classes.\n",
    "        Simply one parent and two childs."
   ]
  },
  {
   "cell_type": "raw",
   "id": "7b4e43fb",
   "metadata": {},
   "source": [
    "Multiple inheritance:\n",
    "    In a derived class,we use 2 parent classes.\n",
    "    Ex - simply a child acquiring the properties of mother and father."
   ]
  },
  {
   "cell_type": "markdown",
   "id": "5ff0a1e6",
   "metadata": {},
   "source": [
    "## Polymorphism"
   ]
  },
  {
   "cell_type": "markdown",
   "id": "dd30ec96",
   "metadata": {},
   "source": [
    "Implementing the same thing in different ways."
   ]
  },
  {
   "cell_type": "raw",
   "id": "1d70dc3a",
   "metadata": {},
   "source": [
    "# suppose u want to find out the area of a polygon.\n",
    "# we know the different poygons such as triangle,square,rectangle.\n",
    "# for every polygon,different formulas will present.\n",
    "# suppose we write a polygon method to find area, we will use the same method(try to implement) in 3 different ways for 3 different classes "
   ]
  },
  {
   "cell_type": "raw",
   "id": "0de434ee",
   "metadata": {},
   "source": [
    "1. Compile time Polymorphism: can be achieved by Method overloading.\n",
    "2. Run time Polymorphism: can be achieved by Method Overriding."
   ]
  },
  {
   "cell_type": "raw",
   "id": "4ae88d4e",
   "metadata": {},
   "source": [
    "Method overloading:\n",
    "    \n",
    "    whatever the last method present, it will be called automatically.\n",
    "    Python doesn't support method overloading.\n",
    "    To achieve method overloading,we can use the default parameters as shown below."
   ]
  },
  {
   "cell_type": "code",
   "execution_count": 6,
   "id": "3d449f04",
   "metadata": {},
   "outputs": [
    {
     "ename": "TypeError",
     "evalue": "add() missing 2 required positional arguments: 'x' and 'y'",
     "output_type": "error",
     "traceback": [
      "\u001b[1;31m---------------------------------------------------------------------------\u001b[0m",
      "\u001b[1;31mTypeError\u001b[0m                                 Traceback (most recent call last)",
      "\u001b[1;32m~\\AppData\\Local\\Temp\\ipykernel_5352\\707239417.py\u001b[0m in \u001b[0;36m<module>\u001b[1;34m\u001b[0m\n\u001b[0;32m      7\u001b[0m         \u001b[0mprint\u001b[0m\u001b[1;33m(\u001b[0m\u001b[0mx\u001b[0m\u001b[1;33m+\u001b[0m\u001b[0my\u001b[0m\u001b[1;33m)\u001b[0m\u001b[1;33m\u001b[0m\u001b[1;33m\u001b[0m\u001b[0m\n\u001b[0;32m      8\u001b[0m \u001b[0md1\u001b[0m\u001b[1;33m=\u001b[0m\u001b[0mDemo\u001b[0m\u001b[1;33m(\u001b[0m\u001b[1;33m)\u001b[0m\u001b[1;33m\u001b[0m\u001b[1;33m\u001b[0m\u001b[0m\n\u001b[1;32m----> 9\u001b[1;33m \u001b[0md1\u001b[0m\u001b[1;33m.\u001b[0m\u001b[0madd\u001b[0m\u001b[1;33m(\u001b[0m\u001b[1;33m)\u001b[0m\u001b[1;33m\u001b[0m\u001b[1;33m\u001b[0m\u001b[0m\n\u001b[0m",
      "\u001b[1;31mTypeError\u001b[0m: add() missing 2 required positional arguments: 'x' and 'y'"
     ]
    }
   ],
   "source": [
    "class Demo:\n",
    "    def add(self):\n",
    "        print(\"Nothing\")\n",
    "    def add(self,x):\n",
    "        print(x+10)\n",
    "    def add(self,x,y):\n",
    "        print(x+y)\n",
    "d1=Demo()\n",
    "d1.add() # we are not passing any arguments here. so we think it will call the first add(self).\n",
    "# but in python whatever the last method present with same name, it will only exists."
   ]
  },
  {
   "cell_type": "code",
   "execution_count": 7,
   "id": "10a2f01b",
   "metadata": {},
   "outputs": [
    {
     "name": "stdout",
     "output_type": "stream",
     "text": [
      "70\n"
     ]
    }
   ],
   "source": [
    "d1.add(30,40)"
   ]
  },
  {
   "cell_type": "code",
   "execution_count": 12,
   "id": "1205b28c",
   "metadata": {},
   "outputs": [
    {
     "name": "stdout",
     "output_type": "stream",
     "text": [
      "20\n"
     ]
    }
   ],
   "source": [
    "# let us try to use the default parameters here and try to achieve it indirectly.\n",
    "class Demo:\n",
    "    def add(self,x,y=0,z=10,a=90):\n",
    "        print(x+y+z)\n",
    "d1=Demo()\n",
    "d1.add(10)"
   ]
  },
  {
   "cell_type": "code",
   "execution_count": 13,
   "id": "346a49ee",
   "metadata": {},
   "outputs": [
    {
     "name": "stdout",
     "output_type": "stream",
     "text": [
      "240\n"
     ]
    }
   ],
   "source": [
    "d1.add(10,200,30) # x=10,y=200,z=30 will be passed to the method.\n",
    "# default values will be used if and only if we don't pass the values."
   ]
  },
  {
   "cell_type": "markdown",
   "id": "c48f7128",
   "metadata": {},
   "source": [
    "## Abstratction"
   ]
  },
  {
   "cell_type": "markdown",
   "id": "27cbe842",
   "metadata": {},
   "source": [
    "1. Hiding the implementation part and showing only the essential parts/details for  user.\n",
    "2. Here also we need to use the inheritance concepts.\n",
    "3. We need to use a specific module called abc module which means abstarct base class. Here ABC class is present in it.\n",
    "4. Here one class will present which we can use it in our own class and make our class as derived class.\n",
    "5. ABC is the base class which we will use to inherit properties for abstraction.\n",
    "6. A class is said to be an Abstract class even if atleast one abstract method is present in it,then it is called Abstract class.\n"
   ]
  },
  {
   "cell_type": "markdown",
   "id": "13c23586",
   "metadata": {},
   "source": [
    "## Abstract method: Hiding the implementataion\n",
    "1. only function call with empty definition.\n",
    "2. we write only function name but no details are present in it.\n",
    "3. To implement it,we need to use the decorator which is @abstractmethod.\n",
    "4. We cannot create an object by using the Abstract class.\n",
    "5. To create the object,we need to use a concrete class which  doesn't have any abstract methods in it.\n",
    "6. Now we can create the object using the concrete classes.\n",
    "7. we will override the abstract methods which is present in the abstract class.\n",
    "\n",
    "\n",
    "    "
   ]
  },
  {
   "cell_type": "code",
   "execution_count": null,
   "id": "c3bf9726",
   "metadata": {},
   "outputs": [],
   "source": [
    "we will try to understand more with an example.\n",
    "create a bank class here as AbstractDemo.\n",
    "we will create a method with rate of intrest for house and vehicles and we don't specify anything in it,since for each bank it will varies.\n"
   ]
  },
  {
   "cell_type": "code",
   "execution_count": 2,
   "id": "c038d891",
   "metadata": {},
   "outputs": [
    {
     "ename": "TypeError",
     "evalue": "Can't instantiate abstract class AbstractDemo with abstract methods ROI_house, ROI_vehicle",
     "output_type": "error",
     "traceback": [
      "\u001b[1;31m---------------------------------------------------------------------------\u001b[0m",
      "\u001b[1;31mTypeError\u001b[0m                                 Traceback (most recent call last)",
      "\u001b[1;32m~\\AppData\\Local\\Temp\\ipykernel_35388\\2103798531.py\u001b[0m in \u001b[0;36m<module>\u001b[1;34m\u001b[0m\n\u001b[0;32m      7\u001b[0m   \u001b[1;32mdef\u001b[0m  \u001b[0mROI_vehicle\u001b[0m\u001b[1;33m(\u001b[0m\u001b[0mself\u001b[0m\u001b[1;33m)\u001b[0m\u001b[1;33m:\u001b[0m\u001b[1;33m\u001b[0m\u001b[1;33m\u001b[0m\u001b[0m\n\u001b[0;32m      8\u001b[0m     \u001b[1;32mNone\u001b[0m\u001b[1;33m\u001b[0m\u001b[1;33m\u001b[0m\u001b[0m\n\u001b[1;32m----> 9\u001b[1;33m \u001b[0mobj1\u001b[0m\u001b[1;33m=\u001b[0m\u001b[0mAbstractDemo\u001b[0m\u001b[1;33m(\u001b[0m\u001b[1;33m)\u001b[0m\u001b[1;33m\u001b[0m\u001b[1;33m\u001b[0m\u001b[0m\n\u001b[0m",
      "\u001b[1;31mTypeError\u001b[0m: Can't instantiate abstract class AbstractDemo with abstract methods ROI_house, ROI_vehicle"
     ]
    }
   ],
   "source": [
    "from abc import ABC,abstractmethod\n",
    "class AbstractDemo(ABC): # ABC class should present here .\n",
    "  @abstractmethod\n",
    "  def  ROI_house(self):\n",
    "    None\n",
    "  @abstractmethod   # even if one abstract method present,we will treat it as abstract class.\n",
    "  def  ROI_vehicle(self):\n",
    "    None\n",
    "obj1=AbstractDemo()\n",
    "# when we try to create an object here,it will result an error here.\n"
   ]
  },
  {
   "cell_type": "code",
   "execution_count": 4,
   "id": "e965ffd3",
   "metadata": {},
   "outputs": [
    {
     "name": "stdout",
     "output_type": "stream",
     "text": [
      "ROI is 7.5%\n",
      "ROI is 10%\n"
     ]
    }
   ],
   "source": [
    "# so we will create an another class which will inherit the properties of AbstractDemo class.\n",
    "# here we will write methods which can overwrite(overrride) the methods in base class(AbstractDemo class)\n",
    "\n",
    "from abc import ABC,abstractmethod\n",
    "class AbstractDemo(ABC): # ABC class should present here .\n",
    "  @abstractmethod\n",
    "  def  ROI_house(self):\n",
    "    None\n",
    "  @abstractmethod   # even if one abstract method present,we will treat it as abstract class.\n",
    "  def  ROI_vehicle(self):\n",
    "    None\n",
    "    \n",
    "class SBI(AbstractDemo):\n",
    "    def ROI_house(self):\n",
    "        print(\"ROI is 7.5%\")\n",
    "    def ROI_vehicle(self):\n",
    "        print(\"ROI is 10%\")\n",
    "        \n",
    "obj1=SBI()\n",
    "obj1.ROI_house() # overrided of the AbstractDemo class method\n",
    "obj1.ROI_vehicle()"
   ]
  },
  {
   "cell_type": "code",
   "execution_count": 5,
   "id": "7793c2b9",
   "metadata": {},
   "outputs": [
    {
     "name": "stdout",
     "output_type": "stream",
     "text": [
      "ROI is 6.5%\n",
      "ROI is 12%\n"
     ]
    }
   ],
   "source": [
    "# now we will create one more class named ICICI\n",
    "from abc import ABC,abstractmethod\n",
    "class AbstractDemo(ABC): # ABC class should present here .\n",
    "  @abstractmethod\n",
    "  def  ROI_house(self):\n",
    "    None\n",
    "  @abstractmethod   \n",
    "  def  ROI_vehicle(self):\n",
    "    None\n",
    "    \n",
    "class SBI(AbstractDemo): # concrete class\n",
    "    def ROI_house(self):\n",
    "        print(\"ROI is 7.5%\")\n",
    "    def ROI_vehicle(self):\n",
    "        print(\"ROI is 10%\")\n",
    "class ICICI(AbstractDemo):\n",
    "    def ROI_house(self):\n",
    "        print(\"ROI is 6.5%\")\n",
    "    def ROI_vehicle(self):\n",
    "        print(\"ROI is 12%\")\n",
    "        \n",
    "\n",
    "obj1=ICICI()\n",
    "obj1.ROI_house() \n",
    "obj1.ROI_vehicle()"
   ]
  },
  {
   "cell_type": "code",
   "execution_count": 7,
   "id": "0cebe22c",
   "metadata": {},
   "outputs": [
    {
     "ename": "TypeError",
     "evalue": "Can't instantiate abstract class ICICI with abstract method ROI_vehicle",
     "output_type": "error",
     "traceback": [
      "\u001b[1;31m---------------------------------------------------------------------------\u001b[0m",
      "\u001b[1;31mTypeError\u001b[0m                                 Traceback (most recent call last)",
      "\u001b[1;32m~\\AppData\\Local\\Temp\\ipykernel_35388\\2608318110.py\u001b[0m in \u001b[0;36m<module>\u001b[1;34m\u001b[0m\n\u001b[0;32m     22\u001b[0m     \u001b[1;31m# definitely all the abstract methods should be overrided\u001b[0m\u001b[1;33m\u001b[0m\u001b[1;33m\u001b[0m\u001b[0m\n\u001b[0;32m     23\u001b[0m \u001b[1;33m\u001b[0m\u001b[0m\n\u001b[1;32m---> 24\u001b[1;33m \u001b[0mobj1\u001b[0m\u001b[1;33m=\u001b[0m\u001b[0mICICI\u001b[0m\u001b[1;33m(\u001b[0m\u001b[1;33m)\u001b[0m\u001b[1;33m\u001b[0m\u001b[1;33m\u001b[0m\u001b[0m\n\u001b[0m\u001b[0;32m     25\u001b[0m \u001b[0mobj1\u001b[0m\u001b[1;33m.\u001b[0m\u001b[0mROI_house\u001b[0m\u001b[1;33m(\u001b[0m\u001b[1;33m)\u001b[0m\u001b[1;33m\u001b[0m\u001b[1;33m\u001b[0m\u001b[0m\n\u001b[0;32m     26\u001b[0m \u001b[1;31m#obj1.ROI_vehicle()\u001b[0m\u001b[1;33m\u001b[0m\u001b[1;33m\u001b[0m\u001b[0m\n",
      "\u001b[1;31mTypeError\u001b[0m: Can't instantiate abstract class ICICI with abstract method ROI_vehicle"
     ]
    }
   ],
   "source": [
    "from abc import ABC,abstractmethod\n",
    "class AbstractDemo(ABC): # ABC class should present here .\n",
    "  @abstractmethod\n",
    "  def  ROI_house(self):\n",
    "    None\n",
    "  @abstractmethod   \n",
    "  def  ROI_vehicle(self):\n",
    "    None\n",
    "    \n",
    "class SBI(AbstractDemo):\n",
    "    def ROI_house(self):\n",
    "        print(\"ROI is 7.5%\")\n",
    "    def ROI_vehicle(self):\n",
    "        print(\"ROI is 10%\")\n",
    "class ICICI(AbstractDemo): # still it is treated as abstract class only. since only one abstract method was written in this class.\n",
    "    \n",
    "    def ROI_house(self):\n",
    "        print(\"ROI is 6.5%\")\n",
    "   # suppose we write only one abstract method here which preset in the AbstractDemo class.\n",
    " # to create a concrete class,we need to write all the abstract methods in the concrete class also.\n",
    "    # else it will throw an error\n",
    "    # here in ICICI we will try to override only one method which is present in AbstratDemo class.\n",
    "    # definitely all the abstract methods should be overrided\n",
    "\n",
    "obj1=ICICI()\n",
    "obj1.ROI_house() \n",
    "#obj1.ROI_vehicle()"
   ]
  },
  {
   "cell_type": "markdown",
   "id": "a4394fe2",
   "metadata": {},
   "source": [
    "## Data Hiding"
   ]
  },
  {
   "cell_type": "raw",
   "id": "26c420eb",
   "metadata": {},
   "source": [
    "Providing security to the data by using the access specifiers here.\n",
    "Public,private and protected are the Access specifiers here.\n",
    "Public (Variables/Methods) can be accessed within the class and outside the class. \n",
    "Private (Variables/Methods) can be accessed within the class. two underscores are used here before the variable.\n",
    "We can give two __ for a method also to make it as private method."
   ]
  },
  {
   "cell_type": "code",
   "execution_count": 5,
   "id": "baac4a07",
   "metadata": {},
   "outputs": [
    {
     "name": "stdout",
     "output_type": "stream",
     "text": [
      "10 100\n",
      "method is executed \n",
      "None\n"
     ]
    }
   ],
   "source": [
    "class Demo:\n",
    "    a=10\n",
    "    b=100\n",
    "    def display(self):\n",
    "        print(\"method is executed \")\n",
    "obj=Demo()\n",
    "print(obj.a,obj.b)\n",
    "print(obj.display())"
   ]
  },
  {
   "cell_type": "code",
   "execution_count": 7,
   "id": "5dc77483",
   "metadata": {},
   "outputs": [
    {
     "ename": "AttributeError",
     "evalue": "'Demo' object has no attribute 'a'",
     "output_type": "error",
     "traceback": [
      "\u001b[1;31m---------------------------------------------------------------------------\u001b[0m",
      "\u001b[1;31mAttributeError\u001b[0m                            Traceback (most recent call last)",
      "\u001b[1;32m~\\AppData\\Local\\Temp\\ipykernel_19064\\2784651837.py\u001b[0m in \u001b[0;36m<module>\u001b[1;34m\u001b[0m\n\u001b[0;32m      5\u001b[0m         \u001b[0mprint\u001b[0m\u001b[1;33m(\u001b[0m\u001b[1;34m\"method is executed \"\u001b[0m\u001b[1;33m)\u001b[0m\u001b[1;33m\u001b[0m\u001b[1;33m\u001b[0m\u001b[0m\n\u001b[0;32m      6\u001b[0m \u001b[0mobj\u001b[0m\u001b[1;33m=\u001b[0m\u001b[0mDemo\u001b[0m\u001b[1;33m(\u001b[0m\u001b[1;33m)\u001b[0m\u001b[1;33m\u001b[0m\u001b[1;33m\u001b[0m\u001b[0m\n\u001b[1;32m----> 7\u001b[1;33m \u001b[0mprint\u001b[0m\u001b[1;33m(\u001b[0m\u001b[0mobj\u001b[0m\u001b[1;33m.\u001b[0m\u001b[0ma\u001b[0m\u001b[1;33m,\u001b[0m\u001b[0mobj\u001b[0m\u001b[1;33m.\u001b[0m\u001b[0mb\u001b[0m\u001b[1;33m)\u001b[0m\u001b[1;33m\u001b[0m\u001b[1;33m\u001b[0m\u001b[0m\n\u001b[0m\u001b[0;32m      8\u001b[0m \u001b[0mprint\u001b[0m\u001b[1;33m(\u001b[0m\u001b[0mobj\u001b[0m\u001b[1;33m.\u001b[0m\u001b[0mdisplay\u001b[0m\u001b[1;33m(\u001b[0m\u001b[1;33m)\u001b[0m\u001b[1;33m)\u001b[0m\u001b[1;33m\u001b[0m\u001b[1;33m\u001b[0m\u001b[0m\n",
      "\u001b[1;31mAttributeError\u001b[0m: 'Demo' object has no attribute 'a'"
     ]
    }
   ],
   "source": [
    "class Demo:\n",
    "    __a=10 # since we make it as private,we cannot access it outside the class.\n",
    "    b=100\n",
    "    def display(self):\n",
    "        print(\"method is executed \")\n",
    "obj=Demo()\n",
    "print(obj.a,obj.b)\n",
    "print(obj.display())"
   ]
  },
  {
   "cell_type": "code",
   "execution_count": 11,
   "id": "dd3377e2",
   "metadata": {},
   "outputs": [
    {
     "name": "stdout",
     "output_type": "stream",
     "text": [
      "100\n",
      "method is executed \n",
      "10\n",
      "None\n"
     ]
    }
   ],
   "source": [
    "class Demo:\n",
    "    __a=10 # since we make it as private,we cannot access it outside the class.\n",
    "    b=100\n",
    "    def __display(self):\n",
    "        print(\"method is executed \")\n",
    "        print(self.__a)\n",
    "    def method2(self):\n",
    "        self.__display() # within the class we are running the private method.\n",
    "obj=Demo()\n",
    "print(obj.b)\n",
    "print(obj.method2())"
   ]
  },
  {
   "cell_type": "markdown",
   "id": "8d7cccaa",
   "metadata": {},
   "source": [
    "# Modules\n",
    "\n",
    "## OS module"
   ]
  },
  {
   "cell_type": "markdown",
   "id": "665ad730",
   "metadata": {},
   "source": [
    "There are 2 types of modules:\n",
    "1. Built=in module\n",
    "    1. OS module\n",
    "    2. SYS module\n",
    "    3. DATETIME module\n",
    "    4. math module\n",
    "    5. random module\n",
    "    \n",
    "2. User defined Modules"
   ]
  },
  {
   "cell_type": "raw",
   "id": "7d619209",
   "metadata": {},
   "source": [
    "In a module there will be well defined classes and functions present which we can use and solve the common tasks.\n",
    "This modules saves us time and lot of lines in code will be reduced.\n",
    "we can access the functions present in the module directly into our code by importing them.\n",
    "# to call a function we need to give as module_name.function_name\n",
    "if we want to directly call function then use as from module_name import * \n",
    "# * represents all the functions present in it."
   ]
  },
  {
   "cell_type": "markdown",
   "id": "e673d9f3",
   "metadata": {},
   "source": [
    "mkdir() - A new directory corresponding to the path in the string argument of the function will be created.\n",
    "\n",
    "getcwd() - gives the current working directory.\n",
    "\n",
    "rmdir()- removes the specified directory either with an absolute or relative path. However, we cannot remove the current working directory.\n",
    "Also,for a directory to be removed,it should be empty.\n",
    "\n",
    "listdir()- returns the list of all files and directories in the specified directory.\n",
    "If we don't specify any directory,then list of files and directories in the current directory will be returned."
   ]
  },
  {
   "cell_type": "code",
   "execution_count": 13,
   "id": "25ee2790",
   "metadata": {},
   "outputs": [
    {
     "data": {
      "text/plain": [
       "'C:\\\\Users\\\\Phanindra Reddy\\\\OOPS Youtube Durga Software Sundeep saradhy'"
      ]
     },
     "execution_count": 13,
     "metadata": {},
     "output_type": "execute_result"
    }
   ],
   "source": [
    "from os import *\n",
    "getcwd()"
   ]
  },
  {
   "cell_type": "code",
   "execution_count": 15,
   "id": "049f083f",
   "metadata": {},
   "outputs": [],
   "source": [
    "mkdir(\"Indrasena Reddy\") # a folder will be created in this current working directory."
   ]
  },
  {
   "cell_type": "code",
   "execution_count": 16,
   "id": "91523df6",
   "metadata": {},
   "outputs": [],
   "source": [
    "rmdir(\"Indrasena Reddy\") # the above folder will be deleted."
   ]
  },
  {
   "cell_type": "code",
   "execution_count": 18,
   "id": "ecf26ecc",
   "metadata": {},
   "outputs": [
    {
     "data": {
      "text/plain": [
       "['.ipynb_checkpoints',\n",
       " 'OOPS Adv Python Session-74 &75_76.ipynb',\n",
       " 'OOPS Advance session -77 & 78 Variables and methods in OOPS.ipynb',\n",
       " 'Python oops 3hr 3mins Sundeep saradhy.ipynb']"
      ]
     },
     "execution_count": 18,
     "metadata": {},
     "output_type": "execute_result"
    }
   ],
   "source": [
    "listdir()"
   ]
  },
  {
   "cell_type": "code",
   "execution_count": 27,
   "id": "06fe5663",
   "metadata": {},
   "outputs": [
    {
     "data": {
      "text/plain": [
       "<module 'ntpath' from 'C:\\\\Users\\\\Phanindra Reddy\\\\anaconda3\\\\lib\\\\ntpath.py'>"
      ]
     },
     "execution_count": 27,
     "metadata": {},
     "output_type": "execute_result"
    }
   ],
   "source": [
    "path # gives the path where the module is present"
   ]
  },
  {
   "cell_type": "code",
   "execution_count": 24,
   "id": "fd224aa4",
   "metadata": {},
   "outputs": [
    {
     "data": {
      "text/plain": [
       "['DirEntry',\n",
       " 'F_OK',\n",
       " 'GenericAlias',\n",
       " 'Mapping',\n",
       " 'MutableMapping',\n",
       " 'O_APPEND',\n",
       " 'O_BINARY',\n",
       " 'O_CREAT',\n",
       " 'O_EXCL',\n",
       " 'O_NOINHERIT',\n",
       " 'O_RANDOM',\n",
       " 'O_RDONLY',\n",
       " 'O_RDWR',\n",
       " 'O_SEQUENTIAL',\n",
       " 'O_SHORT_LIVED',\n",
       " 'O_TEMPORARY',\n",
       " 'O_TEXT',\n",
       " 'O_TRUNC',\n",
       " 'O_WRONLY',\n",
       " 'P_DETACH',\n",
       " 'P_NOWAIT',\n",
       " 'P_NOWAITO',\n",
       " 'P_OVERLAY',\n",
       " 'P_WAIT',\n",
       " 'PathLike',\n",
       " 'R_OK',\n",
       " 'SEEK_CUR',\n",
       " 'SEEK_END',\n",
       " 'SEEK_SET',\n",
       " 'TMP_MAX',\n",
       " 'W_OK',\n",
       " 'X_OK',\n",
       " '_AddedDllDirectory',\n",
       " '_Environ',\n",
       " '__all__',\n",
       " '__builtins__',\n",
       " '__cached__',\n",
       " '__doc__',\n",
       " '__file__',\n",
       " '__loader__',\n",
       " '__name__',\n",
       " '__package__',\n",
       " '__spec__',\n",
       " '_check_methods',\n",
       " '_execvpe',\n",
       " '_exists',\n",
       " '_exit',\n",
       " '_fspath',\n",
       " '_get_exports_list',\n",
       " '_walk',\n",
       " '_wrap_close',\n",
       " 'abc',\n",
       " 'abort',\n",
       " 'access',\n",
       " 'add_dll_directory',\n",
       " 'altsep',\n",
       " 'chdir',\n",
       " 'chmod',\n",
       " 'close',\n",
       " 'closerange',\n",
       " 'cpu_count',\n",
       " 'curdir',\n",
       " 'defpath',\n",
       " 'device_encoding',\n",
       " 'devnull',\n",
       " 'dup',\n",
       " 'dup2',\n",
       " 'environ',\n",
       " 'error',\n",
       " 'execl',\n",
       " 'execle',\n",
       " 'execlp',\n",
       " 'execlpe',\n",
       " 'execv',\n",
       " 'execve',\n",
       " 'execvp',\n",
       " 'execvpe',\n",
       " 'extsep',\n",
       " 'fdopen',\n",
       " 'fsdecode',\n",
       " 'fsencode',\n",
       " 'fspath',\n",
       " 'fstat',\n",
       " 'fsync',\n",
       " 'ftruncate',\n",
       " 'get_exec_path',\n",
       " 'get_handle_inheritable',\n",
       " 'get_inheritable',\n",
       " 'get_terminal_size',\n",
       " 'getcwd',\n",
       " 'getcwdb',\n",
       " 'getenv',\n",
       " 'getlogin',\n",
       " 'getpid',\n",
       " 'getppid',\n",
       " 'isatty',\n",
       " 'kill',\n",
       " 'linesep',\n",
       " 'link',\n",
       " 'listdir',\n",
       " 'lseek',\n",
       " 'lstat',\n",
       " 'makedirs',\n",
       " 'mkdir',\n",
       " 'name',\n",
       " 'open',\n",
       " 'pardir',\n",
       " 'path',\n",
       " 'pathsep',\n",
       " 'pipe',\n",
       " 'popen',\n",
       " 'putenv',\n",
       " 'read',\n",
       " 'readlink',\n",
       " 'remove',\n",
       " 'removedirs',\n",
       " 'rename',\n",
       " 'renames',\n",
       " 'replace',\n",
       " 'rmdir',\n",
       " 'scandir',\n",
       " 'sep',\n",
       " 'set_handle_inheritable',\n",
       " 'set_inheritable',\n",
       " 'spawnl',\n",
       " 'spawnle',\n",
       " 'spawnv',\n",
       " 'spawnve',\n",
       " 'st',\n",
       " 'startfile',\n",
       " 'stat',\n",
       " 'stat_result',\n",
       " 'statvfs_result',\n",
       " 'strerror',\n",
       " 'supports_bytes_environ',\n",
       " 'supports_dir_fd',\n",
       " 'supports_effective_ids',\n",
       " 'supports_fd',\n",
       " 'supports_follow_symlinks',\n",
       " 'symlink',\n",
       " 'sys',\n",
       " 'system',\n",
       " 'terminal_size',\n",
       " 'times',\n",
       " 'times_result',\n",
       " 'truncate',\n",
       " 'umask',\n",
       " 'uname_result',\n",
       " 'unlink',\n",
       " 'unsetenv',\n",
       " 'urandom',\n",
       " 'utime',\n",
       " 'waitpid',\n",
       " 'waitstatus_to_exitcode',\n",
       " 'walk',\n",
       " 'write']"
      ]
     },
     "execution_count": 24,
     "metadata": {},
     "output_type": "execute_result"
    }
   ],
   "source": [
    "import os\n",
    "dir(os) # these are all present in the os module."
   ]
  },
  {
   "cell_type": "markdown",
   "id": "087e5887",
   "metadata": {},
   "source": [
    "## SYS module\n"
   ]
  },
  {
   "cell_type": "raw",
   "id": "34fb1212",
   "metadata": {},
   "source": [
    "sys.argv--> returns a list of command line arguments passed to a python script.\n",
    "The item at index 0 in this list is always the name of the script.\n",
    "The rest of the arguments are stored at the subsequent indices.\n",
    "\n",
    "sys.maxsize--> returns the largest integer a variable can take.\n",
    "\n",
    "sys.path --> This is an environment variable that is a search path for all python modules.\n",
    "\n",
    "sys.version --> this attribute displays a string containing the version number of the current Python intrepreter."
   ]
  },
  {
   "cell_type": "code",
   "execution_count": 28,
   "id": "98486a3b",
   "metadata": {},
   "outputs": [
    {
     "name": "stdout",
     "output_type": "stream",
     "text": [
      "['C:\\\\Users\\\\Phanindra Reddy\\\\anaconda3\\\\lib\\\\site-packages\\\\ipykernel_launcher.py', '-f', 'C:\\\\Users\\\\Phanindra Reddy\\\\AppData\\\\Roaming\\\\jupyter\\\\runtime\\\\kernel-aaa2ec0b-dfc5-4714-a8d7-8fdf107911cd.json']\n"
     ]
    }
   ],
   "source": [
    "import sys\n",
    "print(sys.argv) \n",
    "# execute this using the command lien.we will get the correct result."
   ]
  },
  {
   "cell_type": "code",
   "execution_count": 29,
   "id": "1b47d106",
   "metadata": {},
   "outputs": [
    {
     "data": {
      "text/plain": [
       "9223372036854775807"
      ]
     },
     "execution_count": 29,
     "metadata": {},
     "output_type": "execute_result"
    }
   ],
   "source": [
    "sys.maxsize # maximum size a variable can store "
   ]
  },
  {
   "cell_type": "code",
   "execution_count": 30,
   "id": "4105b5d8",
   "metadata": {},
   "outputs": [
    {
     "data": {
      "text/plain": [
       "9223372036854775808"
      ]
     },
     "execution_count": 30,
     "metadata": {},
     "output_type": "execute_result"
    }
   ],
   "source": [
    "sys.maxsize+1 # here no declarations are present in python. so this is allowed in python."
   ]
  },
  {
   "cell_type": "code",
   "execution_count": 31,
   "id": "a540455d",
   "metadata": {},
   "outputs": [
    {
     "data": {
      "text/plain": [
       "9223372036854775817"
      ]
     },
     "execution_count": 31,
     "metadata": {},
     "output_type": "execute_result"
    }
   ],
   "source": [
    "sys.maxsize+10"
   ]
  },
  {
   "cell_type": "code",
   "execution_count": 32,
   "id": "0a97883d",
   "metadata": {},
   "outputs": [
    {
     "data": {
      "text/plain": [
       "'3.9.13 (main, Aug 25 2022, 23:51:50) [MSC v.1916 64 bit (AMD64)]'"
      ]
     },
     "execution_count": 32,
     "metadata": {},
     "output_type": "execute_result"
    }
   ],
   "source": [
    "sys.version"
   ]
  },
  {
   "cell_type": "code",
   "execution_count": 33,
   "id": "092c1fc4",
   "metadata": {},
   "outputs": [
    {
     "data": {
      "text/plain": [
       "['C:\\\\Users\\\\Phanindra Reddy\\\\OOPS Youtube Durga Software Sundeep saradhy',\n",
       " 'C:\\\\Users\\\\Phanindra Reddy\\\\anaconda3\\\\python39.zip',\n",
       " 'C:\\\\Users\\\\Phanindra Reddy\\\\anaconda3\\\\DLLs',\n",
       " 'C:\\\\Users\\\\Phanindra Reddy\\\\anaconda3\\\\lib',\n",
       " 'C:\\\\Users\\\\Phanindra Reddy\\\\anaconda3',\n",
       " '',\n",
       " 'C:\\\\Users\\\\Phanindra Reddy\\\\anaconda3\\\\lib\\\\site-packages',\n",
       " 'C:\\\\Users\\\\Phanindra Reddy\\\\anaconda3\\\\lib\\\\site-packages\\\\win32',\n",
       " 'C:\\\\Users\\\\Phanindra Reddy\\\\anaconda3\\\\lib\\\\site-packages\\\\win32\\\\lib',\n",
       " 'C:\\\\Users\\\\Phanindra Reddy\\\\anaconda3\\\\lib\\\\site-packages\\\\Pythonwin',\n",
       " 'C:\\\\Users\\\\Phanindra Reddy\\\\anaconda3\\\\lib\\\\site-packages\\\\IPython\\\\extensions',\n",
       " 'C:\\\\Users\\\\Phanindra Reddy\\\\.ipython']"
      ]
     },
     "execution_count": 33,
     "metadata": {},
     "output_type": "execute_result"
    }
   ],
   "source": [
    "sys.path"
   ]
  },
  {
   "cell_type": "markdown",
   "id": "33265d01",
   "metadata": {},
   "source": [
    "## Timedate module"
   ]
  },
  {
   "cell_type": "raw",
   "id": "dcc61a05",
   "metadata": {},
   "source": [
    "In a module,not only functions even classes are present.\n",
    "In those classes ,some functions also present which we can use as shown below.\n",
    "\n",
    "Commonly used classes in the datetime module are:\n",
    "    date class --> using this class, date objects are created.\n",
    "    This has 3 attributes. month ,day, year\n",
    "    \n",
    "    time class --> using this class, time objects are created.\n",
    "    This has 4 attributes. hrs,mins,secs,microsecs\n",
    "    \n",
    "    datetime class --> both date and time attributes are the results.\n",
    "    This has seven attributes(month,day,year,hr,mins,secs,ms)\n",
    "    \n",
    "    timedelta class --> to get the difference between two dates."
   ]
  },
  {
   "cell_type": "raw",
   "id": "4b46fac4",
   "metadata": {},
   "source": [
    "Python has a module named datetime to work with dates and tmes.\n",
    "\n",
    "* get current date and time:\n",
    "    One of the classes defined in the datetime module is datetime class. We then used now() meethod to create a datetime object containing the current local date and time.\n",
    "    \n",
    "    datetime_obj=datetime.datetime.now()\n",
    "    \n",
    "* get current Date\n",
    " today() method defined in the date class to get a date object containing the current local date.\n",
    "    \n",
    "    date_obj=datetime.date.today()\n",
    "    \n",
    "    \n",
    "    # to access the method from class in a module\n",
    "    \n",
    "    module_name.class_name.method_name"
   ]
  },
  {
   "cell_type": "code",
   "execution_count": 38,
   "id": "85a134fe",
   "metadata": {},
   "outputs": [
    {
     "name": "stdout",
     "output_type": "stream",
     "text": [
      "2023-07-20 20:16:11.552696\n"
     ]
    }
   ],
   "source": [
    "import datetime\n",
    "datetime_obj=datetime.datetime.now() # both time and date required. so give both\n",
    "print(datetime_obj)"
   ]
  },
  {
   "cell_type": "code",
   "execution_count": 39,
   "id": "df8dcce2",
   "metadata": {},
   "outputs": [
    {
     "name": "stdout",
     "output_type": "stream",
     "text": [
      "2023-07-20\n"
     ]
    }
   ],
   "source": [
    "date_obj=datetime.date.today() # only date needed give date class\n",
    "print(date_obj)"
   ]
  },
  {
   "cell_type": "code",
   "execution_count": 40,
   "id": "218b7773",
   "metadata": {},
   "outputs": [
    {
     "data": {
      "text/plain": [
       "datetime.datetime(2023, 7, 20, 20, 16, 11, 552696)"
      ]
     },
     "execution_count": 40,
     "metadata": {},
     "output_type": "execute_result"
    }
   ],
   "source": [
    "datetime_obj # total 7 attributes are present"
   ]
  },
  {
   "cell_type": "code",
   "execution_count": 41,
   "id": "2ca38319",
   "metadata": {},
   "outputs": [
    {
     "data": {
      "text/plain": [
       "datetime.date(2023, 7, 20)"
      ]
     },
     "execution_count": 41,
     "metadata": {},
     "output_type": "execute_result"
    }
   ],
   "source": [
    "date_obj"
   ]
  },
  {
   "cell_type": "code",
   "execution_count": 42,
   "id": "bab85e4f",
   "metadata": {},
   "outputs": [],
   "source": [
    "# whenn u want to fix a certan date,we need to use the date function in that module. \n",
    "# this is separate function present in that module.\n",
    "# Date object to represent a date\n",
    "\n",
    "import datetime\n",
    "d=datetime.date(2019,5,20)"
   ]
  },
  {
   "cell_type": "code",
   "execution_count": 44,
   "id": "4c8d0db2",
   "metadata": {},
   "outputs": [
    {
     "name": "stdout",
     "output_type": "stream",
     "text": [
      "2019-05-20\n"
     ]
    }
   ],
   "source": [
    "print(d)"
   ]
  },
  {
   "cell_type": "code",
   "execution_count": 45,
   "id": "7e045ea6",
   "metadata": {},
   "outputs": [
    {
     "name": "stdout",
     "output_type": "stream",
     "text": [
      "2023-07-23\n"
     ]
    }
   ],
   "source": [
    "# or simply we can also give like this\n",
    "\n",
    "from datetime import date\n",
    "a=date(2023,7,23)\n",
    "print(a)"
   ]
  },
  {
   "cell_type": "code",
   "execution_count": 46,
   "id": "0807f666",
   "metadata": {},
   "outputs": [
    {
     "name": "stdout",
     "output_type": "stream",
     "text": [
      "2023-07-20\n"
     ]
    }
   ],
   "source": [
    "# Print today's year,month and day\n",
    "import datetime\n",
    "t=datetime.date.today() # this t have all the attributes. we can access each one separately\n",
    "print(t)"
   ]
  },
  {
   "cell_type": "code",
   "execution_count": 47,
   "id": "5028c32b",
   "metadata": {},
   "outputs": [
    {
     "name": "stdout",
     "output_type": "stream",
     "text": [
      "2023\n"
     ]
    }
   ],
   "source": [
    "print(t.year)"
   ]
  },
  {
   "cell_type": "code",
   "execution_count": 48,
   "id": "9bc5f440",
   "metadata": {},
   "outputs": [
    {
     "name": "stdout",
     "output_type": "stream",
     "text": [
      "7\n"
     ]
    }
   ],
   "source": [
    "print(t.month)"
   ]
  },
  {
   "cell_type": "code",
   "execution_count": 49,
   "id": "f3050948",
   "metadata": {},
   "outputs": [
    {
     "name": "stdout",
     "output_type": "stream",
     "text": [
      "20\n"
     ]
    }
   ],
   "source": [
    "print(t.day)"
   ]
  },
  {
   "cell_type": "markdown",
   "id": "a646a37b",
   "metadata": {},
   "source": [
    "## Time object to represent time"
   ]
  },
  {
   "cell_type": "code",
   "execution_count": 2,
   "id": "b340849f",
   "metadata": {},
   "outputs": [
    {
     "name": "stdout",
     "output_type": "stream",
     "text": [
      "00:00:00\n"
     ]
    }
   ],
   "source": [
    "from datetime import time\n",
    "a=time() # time(hour=0,minute=0,second=0)\n",
    "print(a) "
   ]
  },
  {
   "cell_type": "code",
   "execution_count": 4,
   "id": "2461f15b",
   "metadata": {},
   "outputs": [
    {
     "name": "stdout",
     "output_type": "stream",
     "text": [
      "12:08:34\n"
     ]
    }
   ],
   "source": [
    "a=time(12,8,34) # setting as hour=12,minute=8,second=34\n",
    "print(a)"
   ]
  },
  {
   "cell_type": "code",
   "execution_count": 5,
   "id": "ea8454ed",
   "metadata": {},
   "outputs": [
    {
     "data": {
      "text/plain": [
       "12"
      ]
     },
     "execution_count": 5,
     "metadata": {},
     "output_type": "execute_result"
    }
   ],
   "source": [
    "a.hour"
   ]
  },
  {
   "cell_type": "code",
   "execution_count": 6,
   "id": "a08c8c12",
   "metadata": {},
   "outputs": [
    {
     "data": {
      "text/plain": [
       "8"
      ]
     },
     "execution_count": 6,
     "metadata": {},
     "output_type": "execute_result"
    }
   ],
   "source": [
    "a.minute"
   ]
  },
  {
   "cell_type": "code",
   "execution_count": 7,
   "id": "706c9948",
   "metadata": {},
   "outputs": [
    {
     "data": {
      "text/plain": [
       "34"
      ]
     },
     "execution_count": 7,
     "metadata": {},
     "output_type": "execute_result"
    }
   ],
   "source": [
    "a.second"
   ]
  },
  {
   "cell_type": "code",
   "execution_count": 11,
   "id": "8c98cf37",
   "metadata": {},
   "outputs": [
    {
     "name": "stdout",
     "output_type": "stream",
     "text": [
      "12:50:10\n"
     ]
    }
   ],
   "source": [
    "# if we don't know the proper order,we can give directly with their values as shown below.\n",
    "b=time(hour=12,minute=50,second=10)\n",
    "print(b)"
   ]
  },
  {
   "cell_type": "code",
   "execution_count": 12,
   "id": "21a1fc9e",
   "metadata": {},
   "outputs": [
    {
     "name": "stdout",
     "output_type": "stream",
     "text": [
      "11:23:57.004567\n",
      "4567\n"
     ]
    }
   ],
   "source": [
    "# if we want to microseconds also in the time, then we can pass this value as the 4 th parameter here.\n",
    "d=time(11,23,57,4567)\n",
    "print(d)\n",
    "print(d.microsecond)"
   ]
  },
  {
   "cell_type": "code",
   "execution_count": 14,
   "id": "1be1a8cd",
   "metadata": {},
   "outputs": [
    {
     "name": "stdout",
     "output_type": "stream",
     "text": [
      "2018-11-28 00:00:00\n"
     ]
    }
   ],
   "source": [
    "# we can use datetime also.\n",
    "from datetime import datetime\n",
    "a=datetime(2018,11,28) # datetime(year,month,day)\n",
    "print(a)"
   ]
  },
  {
   "cell_type": "code",
   "execution_count": 16,
   "id": "a0366a0d",
   "metadata": {},
   "outputs": [
    {
     "name": "stdout",
     "output_type": "stream",
     "text": [
      "2020-11-28 23:55:58.003456\n"
     ]
    }
   ],
   "source": [
    "#datetime(2017,11,28,23,55,58,3456)\n",
    "b=datetime(2020,11,28,23,55,58,3456)\n",
    "print(b)"
   ]
  },
  {
   "cell_type": "markdown",
   "id": "c5d07515",
   "metadata": {},
   "source": [
    "### timedelta\n",
    "To get the time difference,we need to use the time delta function"
   ]
  },
  {
   "cell_type": "code",
   "execution_count": 18,
   "id": "26b8fd4e",
   "metadata": {},
   "outputs": [
    {
     "name": "stdout",
     "output_type": "stream",
     "text": [
      "0:00:11.000010\n"
     ]
    }
   ],
   "source": [
    "from datetime import timedelta\n",
    "d1=timedelta(11,23,57)\n",
    "d2=timedelta(11,34,67)\n",
    "t=d2-d1\n",
    "print(t)"
   ]
  },
  {
   "cell_type": "code",
   "execution_count": 19,
   "id": "ec3cd56e",
   "metadata": {},
   "outputs": [
    {
     "name": "stdout",
     "output_type": "stream",
     "text": [
      "1 day, 0:00:00.010011\n"
     ]
    }
   ],
   "source": [
    "from datetime import timedelta\n",
    "d1=timedelta(3,11,23,57)\n",
    "d2=timedelta(4,11,34,67)\n",
    "t=d2-d1\n",
    "print(t)"
   ]
  },
  {
   "cell_type": "code",
   "execution_count": 22,
   "id": "da071868",
   "metadata": {},
   "outputs": [
    {
     "name": "stdout",
     "output_type": "stream",
     "text": [
      "1 day, 0:00:00.010011\n"
     ]
    }
   ],
   "source": [
    "from datetime import timedelta\n",
    "d1=timedelta(3,0,23,57)\n",
    "d2=timedelta(4,0,34,67)\n",
    "t=d1-d2\n",
    "print(abs(t))"
   ]
  },
  {
   "cell_type": "code",
   "execution_count": 21,
   "id": "f3fcc0b8",
   "metadata": {},
   "outputs": [
    {
     "name": "stdout",
     "output_type": "stream",
     "text": [
      "1 day, 0:00:00\n"
     ]
    }
   ],
   "source": [
    "from datetime import timedelta\n",
    "d1=timedelta(3)\n",
    "d2=timedelta(4)\n",
    "t=d1-d2\n",
    "print(abs(t))"
   ]
  },
  {
   "cell_type": "code",
   "execution_count": 24,
   "id": "d92067db",
   "metadata": {},
   "outputs": [
    {
     "name": "stdout",
     "output_type": "stream",
     "text": [
      "13 days, 0:00:00\n"
     ]
    }
   ],
   "source": [
    "from datetime import timedelta\n",
    "d1=timedelta(weeks=2,days=3) # 17 days total\n",
    "d2=timedelta(weeks=4,days=2) # 30 days total\n",
    "t=d1-d2\n",
    "print(abs(t))"
   ]
  },
  {
   "cell_type": "code",
   "execution_count": 25,
   "id": "5bdc8b10",
   "metadata": {},
   "outputs": [
    {
     "name": "stdout",
     "output_type": "stream",
     "text": [
      "14 days, 12:54:15\n"
     ]
    }
   ],
   "source": [
    "t1=timedelta(weeks=2,days=5,hours=1,seconds=34)\n",
    "t2=timedelta(days=4,hours=12,minutes=6,seconds=19)\n",
    "print(t1-t2)"
   ]
  },
  {
   "cell_type": "markdown",
   "id": "d70bdf51",
   "metadata": {},
   "source": [
    "## User defined modules"
   ]
  },
  {
   "cell_type": "raw",
   "id": "298e857f",
   "metadata": {},
   "source": [
    "# here we create a module and we write some functions in it .\n",
    "# we will import that module and try to use the functions preent in them."
   ]
  },
  {
   "cell_type": "code",
   "execution_count": 30,
   "id": "0bf73975",
   "metadata": {},
   "outputs": [
    {
     "name": "stdout",
     "output_type": "stream",
     "text": [
      "15\n"
     ]
    }
   ],
   "source": [
    "# create a file with arithmetic and write code in them.\n",
    "def sum(a,b):\n",
    "    return a+b\n",
    "def sub(a,b):\n",
    "    return (a-b)\n",
    "def mul(a,b):\n",
    "    return (a*b)\n",
    "c=sum(5,10)\n",
    "print(c)"
   ]
  },
  {
   "cell_type": "raw",
   "id": "b1c0d0fe",
   "metadata": {},
   "source": [
    "# now just import that filename into your file as \n",
    "import arithmetic\n",
    "a=5\n",
    "b=10\n",
    "c=arithmetic.sum(a,b)\n",
    "d=arithmetic.sub(a,b)\n",
    "print(c,d)"
   ]
  },
  {
   "cell_type": "markdown",
   "id": "a9b8db72",
   "metadata": {},
   "source": [
    "# Exceptional Handling"
   ]
  },
  {
   "cell_type": "raw",
   "id": "e09afc11",
   "metadata": {},
   "source": [
    "There are three types of errors :\n",
    "    1. Compile time error(syntax error)\n",
    "    2. Logical Error\n",
    "    3. Rum Time Error"
   ]
  },
  {
   "cell_type": "code",
   "execution_count": 33,
   "id": "3cc06f5c",
   "metadata": {},
   "outputs": [
    {
     "ename": "SyntaxError",
     "evalue": "unexpected EOF while parsing (2876497865.py, line 1)",
     "output_type": "error",
     "traceback": [
      "\u001b[1;36m  File \u001b[1;32m\"C:\\Users\\Phanindra Reddy\\AppData\\Local\\Temp\\ipykernel_26668\\2876497865.py\"\u001b[1;36m, line \u001b[1;32m1\u001b[0m\n\u001b[1;33m    print(\"hell0\" # incorrect syntax\u001b[0m\n\u001b[1;37m                                    ^\u001b[0m\n\u001b[1;31mSyntaxError\u001b[0m\u001b[1;31m:\u001b[0m unexpected EOF while parsing\n"
     ]
    }
   ],
   "source": [
    "print(\"hell0\" # incorrect syntax"
   ]
  },
  {
   "cell_type": "code",
   "execution_count": 34,
   "id": "efccc877",
   "metadata": {},
   "outputs": [
    {
     "name": "stdout",
     "output_type": "stream",
     "text": [
      "150\n"
     ]
    }
   ],
   "source": [
    "# there will be no problem/error in the code but we get the incorrect output.\n",
    "a=50\n",
    "b=100\n",
    "c=a+b # we want the subtraction but we given addition. so logic is incorrect here.\n",
    "print(c)\n"
   ]
  },
  {
   "cell_type": "code",
   "execution_count": 35,
   "id": "400a2f48",
   "metadata": {},
   "outputs": [
    {
     "ename": "ZeroDivisionError",
     "evalue": "division by zero",
     "output_type": "error",
     "traceback": [
      "\u001b[1;31m---------------------------------------------------------------------------\u001b[0m",
      "\u001b[1;31mZeroDivisionError\u001b[0m                         Traceback (most recent call last)",
      "\u001b[1;32m~\\AppData\\Local\\Temp\\ipykernel_26668\\1926354841.py\u001b[0m in \u001b[0;36m<module>\u001b[1;34m\u001b[0m\n\u001b[0;32m      1\u001b[0m \u001b[0ma\u001b[0m\u001b[1;33m=\u001b[0m\u001b[1;36m10\u001b[0m\u001b[1;33m\u001b[0m\u001b[1;33m\u001b[0m\u001b[0m\n\u001b[0;32m      2\u001b[0m \u001b[0mb\u001b[0m\u001b[1;33m=\u001b[0m\u001b[1;36m0\u001b[0m\u001b[1;33m\u001b[0m\u001b[1;33m\u001b[0m\u001b[0m\n\u001b[1;32m----> 3\u001b[1;33m \u001b[0mprint\u001b[0m\u001b[1;33m(\u001b[0m\u001b[0ma\u001b[0m\u001b[1;33m/\u001b[0m\u001b[0mb\u001b[0m\u001b[1;33m)\u001b[0m\u001b[1;33m\u001b[0m\u001b[1;33m\u001b[0m\u001b[0m\n\u001b[0m",
      "\u001b[1;31mZeroDivisionError\u001b[0m: division by zero"
     ]
    }
   ],
   "source": [
    "# while running time,we will get the errors.\n",
    "a=10\n",
    "b=0\n",
    "print(a/b)"
   ]
  },
  {
   "cell_type": "raw",
   "id": "54cdefac",
   "metadata": {},
   "source": [
    "ZeroDivisionError: division by zero are called as Exceptions.\n",
    "# when this kind of exceeption occurs,then program will be stopped and don't run further.\n",
    "# we need to make sure that the program will execute further even if an exception occurs."
   ]
  },
  {
   "cell_type": "raw",
   "id": "f30919e5",
   "metadata": {},
   "source": [
    "# so we will use try,finally ,else ,except blocks and run the program.\n",
    "# if we know that this code may raise the exception,then we write it in the try block.\n",
    "# like since a/b will raise exception,we write in try block.\n",
    "# suppose if an exception occurs,then we need to give some information about the error occured.\n",
    "# we write it in the Except block. This block will handle the raised exception."
   ]
  },
  {
   "cell_type": "raw",
   "id": "7fa5a7e4",
   "metadata": {},
   "source": [
    "# whether an exception occured or not,the code in the  finally block will be executed.\n",
    "# if no exceptions in try block,then else block will be executed."
   ]
  },
  {
   "cell_type": "raw",
   "id": "3de581bf",
   "metadata": {},
   "source": [
    "# now we will check the different types of errors present.\n",
    "\n",
    "1. AttributeError: Raised if object accesing a member which is not available.\n",
    "2. FileNotFoundError: Raised if file is not available.\n",
    "3. IndexError: Raised if index to sequence is out of bound\n",
    "4. KeyError:  Raised if non-existent key requested for set or dictionary.\n",
    "5. NameError: Raised if non-existent identifier used.\n",
    "6. TypeError: Raised when wrong type of parameter is sent to a function.\n",
    "7. ValueError: Raised when parameter has invalid value.\n",
    "8. ZeroDivisionError: Raised when division is done by zero."
   ]
  },
  {
   "cell_type": "code",
   "execution_count": 38,
   "id": "15d3f424",
   "metadata": {},
   "outputs": [
    {
     "ename": "AttributeError",
     "evalue": "'Demo' object has no attribute 'd'",
     "output_type": "error",
     "traceback": [
      "\u001b[1;31m---------------------------------------------------------------------------\u001b[0m",
      "\u001b[1;31mAttributeError\u001b[0m                            Traceback (most recent call last)",
      "\u001b[1;32m~\\AppData\\Local\\Temp\\ipykernel_26668\\1204637847.py\u001b[0m in \u001b[0;36m<module>\u001b[1;34m\u001b[0m\n\u001b[0;32m      2\u001b[0m     \u001b[0ma\u001b[0m\u001b[1;33m=\u001b[0m\u001b[1;36m10\u001b[0m\u001b[1;33m\u001b[0m\u001b[1;33m\u001b[0m\u001b[0m\n\u001b[0;32m      3\u001b[0m \u001b[0mobj\u001b[0m\u001b[1;33m=\u001b[0m\u001b[0mDemo\u001b[0m\u001b[1;33m(\u001b[0m\u001b[1;33m)\u001b[0m\u001b[1;33m\u001b[0m\u001b[1;33m\u001b[0m\u001b[0m\n\u001b[1;32m----> 4\u001b[1;33m \u001b[0mobj\u001b[0m\u001b[1;33m.\u001b[0m\u001b[0md\u001b[0m\u001b[1;33m\u001b[0m\u001b[1;33m\u001b[0m\u001b[0m\n\u001b[0m",
      "\u001b[1;31mAttributeError\u001b[0m: 'Demo' object has no attribute 'd'"
     ]
    }
   ],
   "source": [
    "class Demo:\n",
    "    a=10\n",
    "obj=Demo()\n",
    "obj.d"
   ]
  },
  {
   "cell_type": "code",
   "execution_count": 39,
   "id": "ce279a50",
   "metadata": {},
   "outputs": [
    {
     "name": "stdout",
     "output_type": "stream",
     "text": [
      "'Demo' object has no attribute 'd'\n"
     ]
    }
   ],
   "source": [
    "\n",
    "class Demo:\n",
    "    a=10\n",
    "try:\n",
    "    obj=Demo()\n",
    "    obj.d\n",
    "except Exception as e: # instead of error as above, simply we get a message here.\n",
    "    print(e)"
   ]
  },
  {
   "cell_type": "code",
   "execution_count": 41,
   "id": "52c3c9d3",
   "metadata": {},
   "outputs": [
    {
     "name": "stdout",
     "output_type": "stream",
     "text": [
      "Error\n"
     ]
    }
   ],
   "source": [
    "# we can print the message whatever we want.\n",
    "class Demo:\n",
    "    a=10\n",
    "try:\n",
    "    obj=Demo()\n",
    "    obj.d\n",
    "except : # instead of error as above, simply we get a message here.\n",
    "    print(\"Error\")"
   ]
  },
  {
   "cell_type": "code",
   "execution_count": 42,
   "id": "d68fee9c",
   "metadata": {},
   "outputs": [
    {
     "ename": "FileNotFoundError",
     "evalue": "[Errno 2] No such file or directory: 'myfile.txt'",
     "output_type": "error",
     "traceback": [
      "\u001b[1;31m---------------------------------------------------------------------------\u001b[0m",
      "\u001b[1;31mFileNotFoundError\u001b[0m                         Traceback (most recent call last)",
      "\u001b[1;32m~\\AppData\\Local\\Temp\\ipykernel_26668\\592055928.py\u001b[0m in \u001b[0;36m<module>\u001b[1;34m\u001b[0m\n\u001b[1;32m----> 1\u001b[1;33m \u001b[0mfile1\u001b[0m\u001b[1;33m=\u001b[0m\u001b[0mopen\u001b[0m\u001b[1;33m(\u001b[0m\u001b[1;34m\"myfile.txt\"\u001b[0m\u001b[1;33m)\u001b[0m\u001b[1;33m\u001b[0m\u001b[1;33m\u001b[0m\u001b[0m\n\u001b[0m",
      "\u001b[1;31mFileNotFoundError\u001b[0m: [Errno 2] No such file or directory: 'myfile.txt'"
     ]
    }
   ],
   "source": [
    "file1=open(\"myfile.txt\") # trying to open the file which doesn't exist."
   ]
  },
  {
   "cell_type": "code",
   "execution_count": 44,
   "id": "e0841fa9",
   "metadata": {},
   "outputs": [
    {
     "name": "stdout",
     "output_type": "stream",
     "text": [
      "please enter the proper file name\n"
     ]
    }
   ],
   "source": [
    "try:\n",
    "    file1=open(\"myfile.txt\")\n",
    "except:\n",
    "    print(\"please enter the proper file name\")"
   ]
  },
  {
   "cell_type": "code",
   "execution_count": 45,
   "id": "502b1bbf",
   "metadata": {},
   "outputs": [
    {
     "ename": "IndexError",
     "evalue": "list index out of range",
     "output_type": "error",
     "traceback": [
      "\u001b[1;31m---------------------------------------------------------------------------\u001b[0m",
      "\u001b[1;31mIndexError\u001b[0m                                Traceback (most recent call last)",
      "\u001b[1;32m~\\AppData\\Local\\Temp\\ipykernel_26668\\3196690335.py\u001b[0m in \u001b[0;36m<module>\u001b[1;34m\u001b[0m\n\u001b[0;32m      1\u001b[0m \u001b[0ml1\u001b[0m\u001b[1;33m=\u001b[0m\u001b[1;33m[\u001b[0m\u001b[1;36m11\u001b[0m\u001b[1;33m,\u001b[0m\u001b[1;36m12\u001b[0m\u001b[1;33m,\u001b[0m\u001b[1;36m14\u001b[0m\u001b[1;33m,\u001b[0m\u001b[1;36m17\u001b[0m\u001b[1;33m,\u001b[0m\u001b[1;36m19\u001b[0m\u001b[1;33m]\u001b[0m\u001b[1;33m\u001b[0m\u001b[1;33m\u001b[0m\u001b[0m\n\u001b[1;32m----> 2\u001b[1;33m \u001b[0mprint\u001b[0m\u001b[1;33m(\u001b[0m\u001b[0ml1\u001b[0m\u001b[1;33m[\u001b[0m\u001b[1;36m10\u001b[0m\u001b[1;33m]\u001b[0m\u001b[1;33m)\u001b[0m\u001b[1;33m\u001b[0m\u001b[1;33m\u001b[0m\u001b[0m\n\u001b[0m",
      "\u001b[1;31mIndexError\u001b[0m: list index out of range"
     ]
    }
   ],
   "source": [
    "l1=[11,12,14,17,19]\n",
    "print(l1[10])"
   ]
  },
  {
   "cell_type": "code",
   "execution_count": 47,
   "id": "742ef736",
   "metadata": {},
   "outputs": [
    {
     "ename": "KeyError",
     "evalue": "'class'",
     "output_type": "error",
     "traceback": [
      "\u001b[1;31m---------------------------------------------------------------------------\u001b[0m",
      "\u001b[1;31mKeyError\u001b[0m                                  Traceback (most recent call last)",
      "\u001b[1;32m~\\AppData\\Local\\Temp\\ipykernel_26668\\1376714477.py\u001b[0m in \u001b[0;36m<module>\u001b[1;34m\u001b[0m\n\u001b[0;32m      1\u001b[0m \u001b[0mdict\u001b[0m\u001b[1;33m=\u001b[0m\u001b[1;33m{\u001b[0m\u001b[1;34m\"name\"\u001b[0m\u001b[1;33m:\u001b[0m\u001b[1;34m\"indra\"\u001b[0m\u001b[1;33m,\u001b[0m\u001b[1;34m\"age\"\u001b[0m\u001b[1;33m:\u001b[0m\u001b[1;36m25\u001b[0m\u001b[1;33m}\u001b[0m\u001b[1;33m\u001b[0m\u001b[1;33m\u001b[0m\u001b[0m\n\u001b[1;32m----> 2\u001b[1;33m \u001b[0mprint\u001b[0m\u001b[1;33m(\u001b[0m\u001b[0mdict\u001b[0m\u001b[1;33m[\u001b[0m\u001b[1;34m\"class\"\u001b[0m\u001b[1;33m]\u001b[0m\u001b[1;33m)\u001b[0m\u001b[1;33m\u001b[0m\u001b[1;33m\u001b[0m\u001b[0m\n\u001b[0m",
      "\u001b[1;31mKeyError\u001b[0m: 'class'"
     ]
    }
   ],
   "source": [
    "dict={\"name\":\"indra\",\"age\":25}\n",
    "print(dict[\"class\"])"
   ]
  },
  {
   "cell_type": "code",
   "execution_count": 48,
   "id": "d6838da9",
   "metadata": {},
   "outputs": [
    {
     "name": "stdout",
     "output_type": "stream",
     "text": [
      "key is not present\n"
     ]
    }
   ],
   "source": [
    "try:\n",
    "    dict={\"name\":\"indra\",\"age\":25}\n",
    "    print(dict[\"class\"])\n",
    "except:\n",
    "    print(\"key is not present\")"
   ]
  },
  {
   "cell_type": "code",
   "execution_count": 50,
   "id": "c751bf5e",
   "metadata": {},
   "outputs": [
    {
     "ename": "NameError",
     "evalue": "name 'g' is not defined",
     "output_type": "error",
     "traceback": [
      "\u001b[1;31m---------------------------------------------------------------------------\u001b[0m",
      "\u001b[1;31mNameError\u001b[0m                                 Traceback (most recent call last)",
      "\u001b[1;32m~\\AppData\\Local\\Temp\\ipykernel_26668\\3625355187.py\u001b[0m in \u001b[0;36m<module>\u001b[1;34m\u001b[0m\n\u001b[0;32m      1\u001b[0m \u001b[0ma\u001b[0m\u001b[1;33m=\u001b[0m\u001b[1;36m100\u001b[0m\u001b[1;33m\u001b[0m\u001b[1;33m\u001b[0m\u001b[0m\n\u001b[0;32m      2\u001b[0m \u001b[0mb\u001b[0m\u001b[1;33m=\u001b[0m\u001b[1;36m200\u001b[0m\u001b[1;33m\u001b[0m\u001b[1;33m\u001b[0m\u001b[0m\n\u001b[1;32m----> 3\u001b[1;33m \u001b[0mprint\u001b[0m\u001b[1;33m(\u001b[0m\u001b[0mg\u001b[0m\u001b[1;33m)\u001b[0m\u001b[1;33m\u001b[0m\u001b[1;33m\u001b[0m\u001b[0m\n\u001b[0m",
      "\u001b[1;31mNameError\u001b[0m: name 'g' is not defined"
     ]
    }
   ],
   "source": [
    "a=100\n",
    "b=200\n",
    "print(g)"
   ]
  },
  {
   "cell_type": "code",
   "execution_count": 51,
   "id": "10f61306",
   "metadata": {},
   "outputs": [
    {
     "name": "stdout",
     "output_type": "stream",
     "text": [
      "Invalid name is given\n"
     ]
    }
   ],
   "source": [
    "try:\n",
    "    a=100\n",
    "    b=200\n",
    "    print(g)\n",
    "except:\n",
    "    print(\"Invalid name is given\")"
   ]
  },
  {
   "cell_type": "code",
   "execution_count": 52,
   "id": "ac3706a2",
   "metadata": {},
   "outputs": [
    {
     "ename": "ValueError",
     "evalue": "invalid literal for int() with base 10: 'hello'",
     "output_type": "error",
     "traceback": [
      "\u001b[1;31m---------------------------------------------------------------------------\u001b[0m",
      "\u001b[1;31mValueError\u001b[0m                                Traceback (most recent call last)",
      "\u001b[1;32m~\\AppData\\Local\\Temp\\ipykernel_26668\\2873080627.py\u001b[0m in \u001b[0;36m<module>\u001b[1;34m\u001b[0m\n\u001b[0;32m      1\u001b[0m \u001b[0ma\u001b[0m\u001b[1;33m=\u001b[0m\u001b[1;34m\"hello\"\u001b[0m\u001b[1;33m\u001b[0m\u001b[1;33m\u001b[0m\u001b[0m\n\u001b[1;32m----> 2\u001b[1;33m \u001b[0mprint\u001b[0m\u001b[1;33m(\u001b[0m\u001b[0mint\u001b[0m\u001b[1;33m(\u001b[0m\u001b[0ma\u001b[0m\u001b[1;33m)\u001b[0m\u001b[1;33m)\u001b[0m\u001b[1;33m\u001b[0m\u001b[1;33m\u001b[0m\u001b[0m\n\u001b[0m",
      "\u001b[1;31mValueError\u001b[0m: invalid literal for int() with base 10: 'hello'"
     ]
    }
   ],
   "source": [
    "a=\"hello\"\n",
    "print(int(a))"
   ]
  },
  {
   "cell_type": "code",
   "execution_count": 55,
   "id": "d25fd3fd",
   "metadata": {},
   "outputs": [
    {
     "name": "stdout",
     "output_type": "stream",
     "text": [
      "division by zero\n",
      "Successfully program executed\n"
     ]
    }
   ],
   "source": [
    "try:\n",
    "    print(10/0)\n",
    "    l=[10,20,30]\n",
    "    print(l[8])\n",
    "except Exception as e:\n",
    "    print(e)\n",
    "else:\n",
    "    print(\"No Exceptions\")\n",
    "finally:\n",
    "    print(\"Successfully program executed\")"
   ]
  },
  {
   "cell_type": "code",
   "execution_count": 56,
   "id": "6789b322",
   "metadata": {},
   "outputs": [
    {
     "ename": "TypeError",
     "evalue": "unsupported operand type(s) for +: 'int' and 'str'",
     "output_type": "error",
     "traceback": [
      "\u001b[1;31m---------------------------------------------------------------------------\u001b[0m",
      "\u001b[1;31mTypeError\u001b[0m                                 Traceback (most recent call last)",
      "\u001b[1;32m~\\AppData\\Local\\Temp\\ipykernel_26668\\3239332452.py\u001b[0m in \u001b[0;36m<module>\u001b[1;34m\u001b[0m\n\u001b[1;32m----> 1\u001b[1;33m \u001b[0ma\u001b[0m\u001b[1;33m=\u001b[0m\u001b[1;36m10\u001b[0m\u001b[1;33m+\u001b[0m\u001b[1;34m\"hello\"\u001b[0m\u001b[1;33m\u001b[0m\u001b[1;33m\u001b[0m\u001b[0m\n\u001b[0m",
      "\u001b[1;31mTypeError\u001b[0m: unsupported operand type(s) for +: 'int' and 'str'"
     ]
    }
   ],
   "source": [
    "a=10+\"hello\""
   ]
  },
  {
   "cell_type": "code",
   "execution_count": 60,
   "id": "6377484b",
   "metadata": {},
   "outputs": [
    {
     "name": "stdout",
     "output_type": "stream",
     "text": [
      "error\n",
      "Successfully program executed\n"
     ]
    }
   ],
   "source": [
    "try:\n",
    "    print(10/0)\n",
    "    l=[10,20,30]\n",
    "    print(l[8])\n",
    "except (ZeroDivisionError,IndexError): # if there are multiple exceptions\n",
    "    # even if any of the above exceptions occurs, then print the error message.\n",
    "    print(\"error\")\n",
    "else:\n",
    "    print(\"No Exceptions\")\n",
    "finally:\n",
    "    print(\"Successfully program executed\")"
   ]
  },
  {
   "cell_type": "markdown",
   "id": "3a006274",
   "metadata": {},
   "source": [
    "## Suresh techs Exception handling "
   ]
  },
  {
   "cell_type": "code",
   "execution_count": 3,
   "id": "d7e144cd",
   "metadata": {},
   "outputs": [
    {
     "ename": "SyntaxError",
     "evalue": "invalid syntax (829219848.py, line 3)",
     "output_type": "error",
     "traceback": [
      "\u001b[1;36m  File \u001b[1;32m\"C:\\Users\\Phanindra Reddy\\AppData\\Local\\Temp\\ipykernel_13272\\829219848.py\"\u001b[1;36m, line \u001b[1;32m3\u001b[0m\n\u001b[1;33m    def __init__(self)\u001b[0m\n\u001b[1;37m                      ^\u001b[0m\n\u001b[1;31mSyntaxError\u001b[0m\u001b[1;31m:\u001b[0m invalid syntax\n"
     ]
    }
   ],
   "source": [
    "# Exception handling\n",
    "class Join:\n",
    "    def __init__(self)\n",
    "        print('Constructor')\n",
    "    def welcome(self):\n",
    "        print('welcome')\n",
    "    def __del__(self): # to know whether a program is successfully completed or not,destructor helps us to know.\n",
    "        # if destructor is called then program ran successfully.\n",
    "        # at the end of the program,the destructor will be called.\n",
    "        \n",
    "        print(\"Destructor is called\")\n",
    "j1=Join()\n",
    "j1.welcome()"
   ]
  },
  {
   "cell_type": "raw",
   "id": "c2f348df",
   "metadata": {},
   "source": [
    "# Exception handling\n",
    "class Join:\n",
    "    def __init__(self)\n",
    "        print('Constructor')\n",
    "    def welcome(self):\n",
    "        print('welcome')\n",
    "    def __del__(self):\n",
    "        print(\"Destructor is called\")\n",
    "j1=Join()\n",
    "j1.welcome()\n",
    "\n",
    "\"C:\\Users\\Phanindra Reddy\\PycharmProjects\\pythonProject8\\venv\\Scripts\\python.exe\" \"C:/Users/Phanindra Reddy/PycharmProjects/pythonProject8/main.py\"\n",
    "Constructor\n",
    "welcome\n",
    "Destructor is called"
   ]
  },
  {
   "cell_type": "raw",
   "id": "17b74201",
   "metadata": {},
   "source": [
    "Exception:\n",
    "    No problem in the syntax(syntactically correct) but there is a problem in the code.\n",
    "    \n",
    "Common Exceptions:\n",
    "    EOFError\n",
    "    IOError\n",
    "    KeyboardInterruptError\n",
    "    ImportError"
   ]
  },
  {
   "cell_type": "raw",
   "id": "e2657459",
   "metadata": {},
   "source": [
    "Syntax:\n",
    "    \n",
    "    try:\n",
    "        #statements\n",
    "    except:\n",
    "        # executes when there is an error."
   ]
  },
  {
   "cell_type": "code",
   "execution_count": 10,
   "id": "a291f8c5",
   "metadata": {},
   "outputs": [
    {
     "name": "stdout",
     "output_type": "stream",
     "text": [
      "Constructor\n",
      "Destructor is called\n",
      "Destructor is called\n",
      "<class 'IndexError'>\n",
      "list index out of range\n"
     ]
    }
   ],
   "source": [
    "# we have an important feature known as exc_info() which is present in the sys module.\n",
    "# exc_info means exception info which is a list and gives 2 values in it.\n",
    "# one with class and name of error, another with the description of the error.\n",
    "\n",
    "import sys\n",
    "try:\n",
    "    class Join:\n",
    "        def __init__(self):\n",
    "            print('Constructor')\n",
    "        def welcome(self):\n",
    "            l1=[10,20,30,40]\n",
    "            print(l1[10])\n",
    "            print('welcome')\n",
    "        def __del__(self):\n",
    "            print(\"Destructor is called\")\n",
    "    j1=Join()\n",
    "    j1.welcome()\n",
    "except:\n",
    "    errorInfo=sys.exc_info()\n",
    "    print(errorInfo[0])\n",
    "    print(errorInfo[1])"
   ]
  },
  {
   "cell_type": "markdown",
   "id": "97e6ed6d",
   "metadata": {},
   "source": [
    "## Try:"
   ]
  },
  {
   "cell_type": "markdown",
   "id": "46a5dcac",
   "metadata": {},
   "source": [
    "1. First try clause will execute.\n",
    "2. If there is any exception in the try clause,exception clause will execute.\n",
    "3. Program will stops if u don't handle exception using except clause.\n",
    "4. Try can handle more than one except clause."
   ]
  },
  {
   "cell_type": "code",
   "execution_count": 9,
   "id": "a0b232e1",
   "metadata": {},
   "outputs": [
    {
     "ename": "SyntaxError",
     "evalue": "default 'except:' must be last (2444363469.py, line 15)",
     "output_type": "error",
     "traceback": [
      "\u001b[1;36m  File \u001b[1;32m\"C:\\Users\\Phanindra Reddy\\AppData\\Local\\Temp\\ipykernel_36040\\2444363469.py\"\u001b[1;36m, line \u001b[1;32m15\u001b[0m\n\u001b[1;33m    j1.welcome()\u001b[0m\n\u001b[1;37m    ^\u001b[0m\n\u001b[1;31mSyntaxError\u001b[0m\u001b[1;31m:\u001b[0m default 'except:' must be last\n"
     ]
    }
   ],
   "source": [
    "# when we give multiple except statements,then for default except only, we should keep it last.\n",
    "# for all remaining excepts,we should give name of the error.\n",
    "import sys\n",
    "try:\n",
    "    class Join:\n",
    "        def __init__(self):\n",
    "            print('Constructor')\n",
    "        def welcome(self):\n",
    "            l1=[10,20,30,40]\n",
    "            print(l1[10])\n",
    "            print('welcome')\n",
    "        def __del__(self):\n",
    "            print(\"Destructor is called\")\n",
    "    j1=Join()\n",
    "    j1.welcome()\n",
    "except: # here the error name should be provided. else it will be treated as the default exception which results in error.\n",
    "    errorInfo=sys.exc_info()\n",
    "    print(errorInfo[0])\n",
    "    print(errorInfo[1])\n",
    "except:\n",
    "    print(\"Out of range\")"
   ]
  },
  {
   "cell_type": "code",
   "execution_count": 6,
   "id": "71a69b49",
   "metadata": {},
   "outputs": [
    {
     "name": "stdout",
     "output_type": "stream",
     "text": [
      "Constructor\n",
      "Destructor is called\n",
      "<class 'IndexError'>\n",
      "list index out of range\n"
     ]
    }
   ],
   "source": [
    "import sys\n",
    "try:\n",
    "    class Join:\n",
    "        def __init__(self):\n",
    "            print('Constructor')\n",
    "        def welcome(self):\n",
    "            l1=[10,20,30,40]\n",
    "            print(l1[10])\n",
    "            print('welcome')\n",
    "        def __del__(self):\n",
    "            print(\"Destructor is called\")\n",
    "    j1=Join()\n",
    "    j1.welcome()\n",
    "except IndexError: # here the error name should be provided. else it will be treated as the default exception which results in error.\n",
    "    errorInfo=sys.exc_info()\n",
    "    print(errorInfo[0])\n",
    "    print(errorInfo[1])\n",
    "# except:\n",
    "#     print(\"Out of range\")"
   ]
  },
  {
   "cell_type": "code",
   "execution_count": 8,
   "id": "db51a9d3",
   "metadata": {},
   "outputs": [
    {
     "name": "stdout",
     "output_type": "stream",
     "text": [
      "Constructor\n",
      "10\n",
      "welcome\n",
      "looks like some another exception occured\n"
     ]
    }
   ],
   "source": [
    "import sys\n",
    "try:\n",
    "    class Join:\n",
    "        def __init__(self):\n",
    "            print('Constructor')\n",
    "        def welcome(self):\n",
    "            l1=[10,20,30,40]\n",
    "            print(l1[0])\n",
    "            print('welcome')\n",
    "            print(10/0)\n",
    "        def __del__(self):\n",
    "            print(\"Destructor is called\")\n",
    "    j2=Join()\n",
    "    j2.welcome()\n",
    "except IndexError: # here the error name should be provided. else it will be treated as the default exception which results in error.\n",
    "    errorInfo=sys.exc_info()\n",
    "    print(errorInfo[0])\n",
    "    print(errorInfo[1])\n",
    "except:\n",
    "    print(\"looks like some another exception occured\")"
   ]
  },
  {
   "cell_type": "code",
   "execution_count": 4,
   "id": "0342db0b",
   "metadata": {},
   "outputs": [
    {
     "name": "stdout",
     "output_type": "stream",
     "text": [
      "Constructor\n",
      "Destructor is called\n",
      "IndexError occured\n"
     ]
    }
   ],
   "source": [
    "# if a program may throw multiple exceptions,then we can write in () or multiple except statements.\n",
    "import sys\n",
    "try:\n",
    "    class Join:\n",
    "        def __init__(self):\n",
    "            print('Constructor')\n",
    "        def welcome(self):\n",
    "            l1=[10,20,30,40]\n",
    "            print(l1[10])\n",
    "            print('welcome')\n",
    "            print(10/0)\n",
    "        \n",
    "            \n",
    "        def __del__(self):\n",
    "            print(\"Destructor is called\")\n",
    "    j2=Join()\n",
    "    j2.welcome()\n",
    "except IndexError: \n",
    "    print(\"IndexError occured\")\n",
    "except NameError:\n",
    "    print(\"Name Error occured\")\n",
    "except ValueError:\n",
    "    print(\"ValueError occured\")\n",
    "except:\n",
    "    print(\"looks like some another exception occured\")"
   ]
  },
  {
   "cell_type": "markdown",
   "id": "375e6f6f",
   "metadata": {},
   "source": [
    "## else clause"
   ]
  },
  {
   "cell_type": "raw",
   "id": "f33d9876",
   "metadata": {},
   "source": [
    "we can have an else clause for the try except\n",
    "it should be placed after all the except clauses.\n",
    "if there is no exception,then else clause will call."
   ]
  },
  {
   "cell_type": "code",
   "execution_count": 7,
   "id": "b0d0001c",
   "metadata": {},
   "outputs": [
    {
     "name": "stdout",
     "output_type": "stream",
     "text": [
      "Out of range\n"
     ]
    }
   ],
   "source": [
    "def members():\n",
    "    try:\n",
    "        mem=[1,2,3,4,5]\n",
    "        m=mem[10]\n",
    "    except IndexError:\n",
    "        print(\"Out of range\")\n",
    "    else:\n",
    "        print(m)\n",
    "members()"
   ]
  },
  {
   "cell_type": "markdown",
   "id": "8723ae4d",
   "metadata": {},
   "source": [
    "## finally"
   ]
  },
  {
   "cell_type": "raw",
   "id": "3f74ab54",
   "metadata": {},
   "source": [
    "* always executed after try and except clauses."
   ]
  },
  {
   "cell_type": "code",
   "execution_count": 8,
   "id": "b561f2f8",
   "metadata": {},
   "outputs": [
    {
     "name": "stdout",
     "output_type": "stream",
     "text": [
      "Out of range\n",
      "Thank you...\n"
     ]
    }
   ],
   "source": [
    "def members():\n",
    "    try:\n",
    "        mem=[1,2,3,4,5]\n",
    "        m=mem[10]\n",
    "    except IndexError:\n",
    "        print(\"Out of range\")\n",
    "    else:\n",
    "        print(m)\n",
    "    finally:\n",
    "        print(\"Thank you...\")\n",
    "members()"
   ]
  },
  {
   "cell_type": "code",
   "execution_count": null,
   "id": "934489e0",
   "metadata": {},
   "outputs": [],
   "source": []
  }
 ],
 "metadata": {
  "kernelspec": {
   "display_name": "Python 3 (ipykernel)",
   "language": "python",
   "name": "python3"
  },
  "language_info": {
   "codemirror_mode": {
    "name": "ipython",
    "version": 3
   },
   "file_extension": ".py",
   "mimetype": "text/x-python",
   "name": "python",
   "nbconvert_exporter": "python",
   "pygments_lexer": "ipython3",
   "version": "3.9.13"
  }
 },
 "nbformat": 4,
 "nbformat_minor": 5
}
